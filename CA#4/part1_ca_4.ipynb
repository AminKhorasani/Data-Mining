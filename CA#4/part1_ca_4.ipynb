{
  "nbformat": 4,
  "nbformat_minor": 0,
  "metadata": {
    "colab": {
      "provenance": [],
      "collapsed_sections": [
        "WNlB8Rv8YjoD",
        "dx9aPYPLPa9w"
      ]
    },
    "kernelspec": {
      "name": "python3",
      "display_name": "Python 3"
    },
    "language_info": {
      "name": "python"
    }
  },
  "cells": [
    {
      "cell_type": "markdown",
      "source": [
        "# Part 1"
      ],
      "metadata": {
        "id": "ZyP7pHggQQal"
      }
    },
    {
      "cell_type": "markdown",
      "source": [
        "Uzip dataset"
      ],
      "metadata": {
        "id": "Adm6fE5eXpBn"
      }
    },
    {
      "cell_type": "code",
      "execution_count": 7,
      "metadata": {
        "id": "VnO0IoaolSuM"
      },
      "outputs": [],
      "source": [
        "!apt-get -qq install unrar"
      ]
    },
    {
      "cell_type": "code",
      "source": [
        "!unrar x CA4_Datasets.rar"
      ],
      "metadata": {
        "colab": {
          "base_uri": "https://localhost:8080/"
        },
        "id": "Tp_hm35OmXpU",
        "outputId": "8a25deb6-ca79-4140-b437-4f57e3f91b3f"
      },
      "execution_count": 8,
      "outputs": [
        {
          "output_type": "stream",
          "name": "stdout",
          "text": [
            "\n",
            "UNRAR 6.11 beta 1 freeware      Copyright (c) 1993-2022 Alexander Roshal\n",
            "\n",
            "\n",
            "Extracting from CA4_Datasets.rar\n",
            "\n",
            "Extracting  Question_1.csv                                               \b\b\b\b 97%\b\b\b\b\b  OK \n",
            "Extracting  Question_2.csv                                               \b\b\b\b100%\b\b\b\b\b  OK \n",
            "All OK\n"
          ]
        }
      ]
    },
    {
      "cell_type": "markdown",
      "source": [
        "install libraries"
      ],
      "metadata": {
        "id": "MSGhpYkLYVc_"
      }
    },
    {
      "cell_type": "code",
      "source": [
        "!pip install category_encoders"
      ],
      "metadata": {
        "colab": {
          "base_uri": "https://localhost:8080/"
        },
        "id": "HA4OHx5hCxIE",
        "outputId": "51c8160d-39bd-4557-9c45-fe9e86a13038"
      },
      "execution_count": 3,
      "outputs": [
        {
          "output_type": "stream",
          "name": "stdout",
          "text": [
            "Collecting category_encoders\n",
            "  Downloading category_encoders-2.6.3-py2.py3-none-any.whl (81 kB)\n",
            "\u001b[2K     \u001b[90m━━━━━━━━━━━━━━━━━━━━━━━━━━━━━━━━━━━━━━━━\u001b[0m \u001b[32m81.9/81.9 kB\u001b[0m \u001b[31m1.7 MB/s\u001b[0m eta \u001b[36m0:00:00\u001b[0m\n",
            "\u001b[?25hRequirement already satisfied: numpy>=1.14.0 in /usr/local/lib/python3.10/dist-packages (from category_encoders) (1.25.2)\n",
            "Requirement already satisfied: scikit-learn>=0.20.0 in /usr/local/lib/python3.10/dist-packages (from category_encoders) (1.2.2)\n",
            "Requirement already satisfied: scipy>=1.0.0 in /usr/local/lib/python3.10/dist-packages (from category_encoders) (1.11.4)\n",
            "Requirement already satisfied: statsmodels>=0.9.0 in /usr/local/lib/python3.10/dist-packages (from category_encoders) (0.14.2)\n",
            "Requirement already satisfied: pandas>=1.0.5 in /usr/local/lib/python3.10/dist-packages (from category_encoders) (2.0.3)\n",
            "Requirement already satisfied: patsy>=0.5.1 in /usr/local/lib/python3.10/dist-packages (from category_encoders) (0.5.6)\n",
            "Requirement already satisfied: python-dateutil>=2.8.2 in /usr/local/lib/python3.10/dist-packages (from pandas>=1.0.5->category_encoders) (2.8.2)\n",
            "Requirement already satisfied: pytz>=2020.1 in /usr/local/lib/python3.10/dist-packages (from pandas>=1.0.5->category_encoders) (2023.4)\n",
            "Requirement already satisfied: tzdata>=2022.1 in /usr/local/lib/python3.10/dist-packages (from pandas>=1.0.5->category_encoders) (2024.1)\n",
            "Requirement already satisfied: six in /usr/local/lib/python3.10/dist-packages (from patsy>=0.5.1->category_encoders) (1.16.0)\n",
            "Requirement already satisfied: joblib>=1.1.1 in /usr/local/lib/python3.10/dist-packages (from scikit-learn>=0.20.0->category_encoders) (1.4.2)\n",
            "Requirement already satisfied: threadpoolctl>=2.0.0 in /usr/local/lib/python3.10/dist-packages (from scikit-learn>=0.20.0->category_encoders) (3.5.0)\n",
            "Requirement already satisfied: packaging>=21.3 in /usr/local/lib/python3.10/dist-packages (from statsmodels>=0.9.0->category_encoders) (24.0)\n",
            "Installing collected packages: category_encoders\n",
            "Successfully installed category_encoders-2.6.3\n"
          ]
        }
      ]
    },
    {
      "cell_type": "code",
      "source": [
        "pip install imbalanced-learn"
      ],
      "metadata": {
        "colab": {
          "base_uri": "https://localhost:8080/"
        },
        "id": "rfBCfFVXUQ-F",
        "outputId": "13f23831-4f44-454a-ef3d-04bdd088cb9e"
      },
      "execution_count": 4,
      "outputs": [
        {
          "output_type": "stream",
          "name": "stdout",
          "text": [
            "Requirement already satisfied: imbalanced-learn in /usr/local/lib/python3.10/dist-packages (0.10.1)\n",
            "Requirement already satisfied: numpy>=1.17.3 in /usr/local/lib/python3.10/dist-packages (from imbalanced-learn) (1.25.2)\n",
            "Requirement already satisfied: scipy>=1.3.2 in /usr/local/lib/python3.10/dist-packages (from imbalanced-learn) (1.11.4)\n",
            "Requirement already satisfied: scikit-learn>=1.0.2 in /usr/local/lib/python3.10/dist-packages (from imbalanced-learn) (1.2.2)\n",
            "Requirement already satisfied: joblib>=1.1.1 in /usr/local/lib/python3.10/dist-packages (from imbalanced-learn) (1.4.2)\n",
            "Requirement already satisfied: threadpoolctl>=2.0.0 in /usr/local/lib/python3.10/dist-packages (from imbalanced-learn) (3.5.0)\n"
          ]
        }
      ]
    },
    {
      "cell_type": "markdown",
      "source": [
        "import libraries"
      ],
      "metadata": {
        "id": "XWWvJDOkYdY8"
      }
    },
    {
      "cell_type": "code",
      "source": [
        "import pandas as pd\n",
        "import numpy as np\n",
        "from sklearn.preprocessing import OneHotEncoder, StandardScaler, MinMaxScaler\n",
        "from sklearn.compose import ColumnTransformer\n",
        "from category_encoders import BinaryEncoder # for binary encoder\n",
        "from sklearn.model_selection import train_test_split\n",
        "from sklearn.tree import DecisionTreeClassifier\n",
        "from sklearn.metrics import accuracy_score, precision_score, recall_score, f1_score, confusion_matrix\n",
        "from imblearn.over_sampling import SMOTE\n",
        "from sklearn.neighbors import KNeighborsClassifier\n",
        "import matplotlib.pyplot as plt\n",
        "import seaborn as sns\n",
        "import graphviz\n",
        "from sklearn.tree import DecisionTreeClassifier, plot_tree, export_graphviz\n",
        "import time"
      ],
      "metadata": {
        "id": "PZvA_GUBma-W"
      },
      "execution_count": 5,
      "outputs": []
    },
    {
      "cell_type": "markdown",
      "source": [
        "# part 1-1"
      ],
      "metadata": {
        "id": "86njvJKHYg3j"
      }
    },
    {
      "cell_type": "markdown",
      "source": [
        "# pre-processing"
      ],
      "metadata": {
        "id": "WNlB8Rv8YjoD"
      }
    },
    {
      "cell_type": "markdown",
      "source": [
        "### Load data"
      ],
      "metadata": {
        "id": "rvjGPKZFLpti"
      }
    },
    {
      "cell_type": "code",
      "source": [
        "# load data\n",
        "dataframe1 = pd.read_csv('Question_1.csv')"
      ],
      "metadata": {
        "id": "zUpNiJN6nQNK"
      },
      "execution_count": 9,
      "outputs": []
    },
    {
      "cell_type": "code",
      "source": [
        "# show dataframe\n",
        "dataframe1.head(5)"
      ],
      "metadata": {
        "colab": {
          "base_uri": "https://localhost:8080/",
          "height": 307
        },
        "id": "SreftCcnnT7s",
        "outputId": "90074310-d335-45f8-83ee-2046ced2f2d3"
      },
      "execution_count": 10,
      "outputs": [
        {
          "output_type": "execute_result",
          "data": {
            "text/plain": [
              "   Unnamed: 0  cap-diameter cap-shape cap-surface cap-color  \\\n",
              "0           0         15.26         x           g         o   \n",
              "1           1         16.60         x           g         o   \n",
              "2           2         14.07         x           g         o   \n",
              "3           3         14.17         f           h         e   \n",
              "4           4         14.64         x           h         o   \n",
              "\n",
              "  does-bruise-or-bleed gill-attachment gill-spacing gill-color  stem-height  \\\n",
              "0                    f               e          NaN          w        16.95   \n",
              "1                    f               e          NaN          w        17.99   \n",
              "2                    f               e          NaN          w        17.80   \n",
              "3                    f               e          NaN          w        15.77   \n",
              "4                    f               e          NaN          w        16.53   \n",
              "\n",
              "   ...  stem-surface stem-color veil-type veil-color has-ring ring-type  \\\n",
              "0  ...             y          w         u          w        t         g   \n",
              "1  ...             y          w         u          w        t         g   \n",
              "2  ...             y          w         u          w        t         g   \n",
              "3  ...             y          w         u          w        t         p   \n",
              "4  ...             y          w         u          w        t         p   \n",
              "\n",
              "  spore-print-color habitat season class  \n",
              "0               NaN       d      w     p  \n",
              "1               NaN       d      u     p  \n",
              "2               NaN       d      w     p  \n",
              "3               NaN       d      w     p  \n",
              "4               NaN       d      w     p  \n",
              "\n",
              "[5 rows x 22 columns]"
            ],
            "text/html": [
              "\n",
              "  <div id=\"df-75468c0d-e60b-427d-95ac-a47016b9f0ab\" class=\"colab-df-container\">\n",
              "    <div>\n",
              "<style scoped>\n",
              "    .dataframe tbody tr th:only-of-type {\n",
              "        vertical-align: middle;\n",
              "    }\n",
              "\n",
              "    .dataframe tbody tr th {\n",
              "        vertical-align: top;\n",
              "    }\n",
              "\n",
              "    .dataframe thead th {\n",
              "        text-align: right;\n",
              "    }\n",
              "</style>\n",
              "<table border=\"1\" class=\"dataframe\">\n",
              "  <thead>\n",
              "    <tr style=\"text-align: right;\">\n",
              "      <th></th>\n",
              "      <th>Unnamed: 0</th>\n",
              "      <th>cap-diameter</th>\n",
              "      <th>cap-shape</th>\n",
              "      <th>cap-surface</th>\n",
              "      <th>cap-color</th>\n",
              "      <th>does-bruise-or-bleed</th>\n",
              "      <th>gill-attachment</th>\n",
              "      <th>gill-spacing</th>\n",
              "      <th>gill-color</th>\n",
              "      <th>stem-height</th>\n",
              "      <th>...</th>\n",
              "      <th>stem-surface</th>\n",
              "      <th>stem-color</th>\n",
              "      <th>veil-type</th>\n",
              "      <th>veil-color</th>\n",
              "      <th>has-ring</th>\n",
              "      <th>ring-type</th>\n",
              "      <th>spore-print-color</th>\n",
              "      <th>habitat</th>\n",
              "      <th>season</th>\n",
              "      <th>class</th>\n",
              "    </tr>\n",
              "  </thead>\n",
              "  <tbody>\n",
              "    <tr>\n",
              "      <th>0</th>\n",
              "      <td>0</td>\n",
              "      <td>15.26</td>\n",
              "      <td>x</td>\n",
              "      <td>g</td>\n",
              "      <td>o</td>\n",
              "      <td>f</td>\n",
              "      <td>e</td>\n",
              "      <td>NaN</td>\n",
              "      <td>w</td>\n",
              "      <td>16.95</td>\n",
              "      <td>...</td>\n",
              "      <td>y</td>\n",
              "      <td>w</td>\n",
              "      <td>u</td>\n",
              "      <td>w</td>\n",
              "      <td>t</td>\n",
              "      <td>g</td>\n",
              "      <td>NaN</td>\n",
              "      <td>d</td>\n",
              "      <td>w</td>\n",
              "      <td>p</td>\n",
              "    </tr>\n",
              "    <tr>\n",
              "      <th>1</th>\n",
              "      <td>1</td>\n",
              "      <td>16.60</td>\n",
              "      <td>x</td>\n",
              "      <td>g</td>\n",
              "      <td>o</td>\n",
              "      <td>f</td>\n",
              "      <td>e</td>\n",
              "      <td>NaN</td>\n",
              "      <td>w</td>\n",
              "      <td>17.99</td>\n",
              "      <td>...</td>\n",
              "      <td>y</td>\n",
              "      <td>w</td>\n",
              "      <td>u</td>\n",
              "      <td>w</td>\n",
              "      <td>t</td>\n",
              "      <td>g</td>\n",
              "      <td>NaN</td>\n",
              "      <td>d</td>\n",
              "      <td>u</td>\n",
              "      <td>p</td>\n",
              "    </tr>\n",
              "    <tr>\n",
              "      <th>2</th>\n",
              "      <td>2</td>\n",
              "      <td>14.07</td>\n",
              "      <td>x</td>\n",
              "      <td>g</td>\n",
              "      <td>o</td>\n",
              "      <td>f</td>\n",
              "      <td>e</td>\n",
              "      <td>NaN</td>\n",
              "      <td>w</td>\n",
              "      <td>17.80</td>\n",
              "      <td>...</td>\n",
              "      <td>y</td>\n",
              "      <td>w</td>\n",
              "      <td>u</td>\n",
              "      <td>w</td>\n",
              "      <td>t</td>\n",
              "      <td>g</td>\n",
              "      <td>NaN</td>\n",
              "      <td>d</td>\n",
              "      <td>w</td>\n",
              "      <td>p</td>\n",
              "    </tr>\n",
              "    <tr>\n",
              "      <th>3</th>\n",
              "      <td>3</td>\n",
              "      <td>14.17</td>\n",
              "      <td>f</td>\n",
              "      <td>h</td>\n",
              "      <td>e</td>\n",
              "      <td>f</td>\n",
              "      <td>e</td>\n",
              "      <td>NaN</td>\n",
              "      <td>w</td>\n",
              "      <td>15.77</td>\n",
              "      <td>...</td>\n",
              "      <td>y</td>\n",
              "      <td>w</td>\n",
              "      <td>u</td>\n",
              "      <td>w</td>\n",
              "      <td>t</td>\n",
              "      <td>p</td>\n",
              "      <td>NaN</td>\n",
              "      <td>d</td>\n",
              "      <td>w</td>\n",
              "      <td>p</td>\n",
              "    </tr>\n",
              "    <tr>\n",
              "      <th>4</th>\n",
              "      <td>4</td>\n",
              "      <td>14.64</td>\n",
              "      <td>x</td>\n",
              "      <td>h</td>\n",
              "      <td>o</td>\n",
              "      <td>f</td>\n",
              "      <td>e</td>\n",
              "      <td>NaN</td>\n",
              "      <td>w</td>\n",
              "      <td>16.53</td>\n",
              "      <td>...</td>\n",
              "      <td>y</td>\n",
              "      <td>w</td>\n",
              "      <td>u</td>\n",
              "      <td>w</td>\n",
              "      <td>t</td>\n",
              "      <td>p</td>\n",
              "      <td>NaN</td>\n",
              "      <td>d</td>\n",
              "      <td>w</td>\n",
              "      <td>p</td>\n",
              "    </tr>\n",
              "  </tbody>\n",
              "</table>\n",
              "<p>5 rows × 22 columns</p>\n",
              "</div>\n",
              "    <div class=\"colab-df-buttons\">\n",
              "\n",
              "  <div class=\"colab-df-container\">\n",
              "    <button class=\"colab-df-convert\" onclick=\"convertToInteractive('df-75468c0d-e60b-427d-95ac-a47016b9f0ab')\"\n",
              "            title=\"Convert this dataframe to an interactive table.\"\n",
              "            style=\"display:none;\">\n",
              "\n",
              "  <svg xmlns=\"http://www.w3.org/2000/svg\" height=\"24px\" viewBox=\"0 -960 960 960\">\n",
              "    <path d=\"M120-120v-720h720v720H120Zm60-500h600v-160H180v160Zm220 220h160v-160H400v160Zm0 220h160v-160H400v160ZM180-400h160v-160H180v160Zm440 0h160v-160H620v160ZM180-180h160v-160H180v160Zm440 0h160v-160H620v160Z\"/>\n",
              "  </svg>\n",
              "    </button>\n",
              "\n",
              "  <style>\n",
              "    .colab-df-container {\n",
              "      display:flex;\n",
              "      gap: 12px;\n",
              "    }\n",
              "\n",
              "    .colab-df-convert {\n",
              "      background-color: #E8F0FE;\n",
              "      border: none;\n",
              "      border-radius: 50%;\n",
              "      cursor: pointer;\n",
              "      display: none;\n",
              "      fill: #1967D2;\n",
              "      height: 32px;\n",
              "      padding: 0 0 0 0;\n",
              "      width: 32px;\n",
              "    }\n",
              "\n",
              "    .colab-df-convert:hover {\n",
              "      background-color: #E2EBFA;\n",
              "      box-shadow: 0px 1px 2px rgba(60, 64, 67, 0.3), 0px 1px 3px 1px rgba(60, 64, 67, 0.15);\n",
              "      fill: #174EA6;\n",
              "    }\n",
              "\n",
              "    .colab-df-buttons div {\n",
              "      margin-bottom: 4px;\n",
              "    }\n",
              "\n",
              "    [theme=dark] .colab-df-convert {\n",
              "      background-color: #3B4455;\n",
              "      fill: #D2E3FC;\n",
              "    }\n",
              "\n",
              "    [theme=dark] .colab-df-convert:hover {\n",
              "      background-color: #434B5C;\n",
              "      box-shadow: 0px 1px 3px 1px rgba(0, 0, 0, 0.15);\n",
              "      filter: drop-shadow(0px 1px 2px rgba(0, 0, 0, 0.3));\n",
              "      fill: #FFFFFF;\n",
              "    }\n",
              "  </style>\n",
              "\n",
              "    <script>\n",
              "      const buttonEl =\n",
              "        document.querySelector('#df-75468c0d-e60b-427d-95ac-a47016b9f0ab button.colab-df-convert');\n",
              "      buttonEl.style.display =\n",
              "        google.colab.kernel.accessAllowed ? 'block' : 'none';\n",
              "\n",
              "      async function convertToInteractive(key) {\n",
              "        const element = document.querySelector('#df-75468c0d-e60b-427d-95ac-a47016b9f0ab');\n",
              "        const dataTable =\n",
              "          await google.colab.kernel.invokeFunction('convertToInteractive',\n",
              "                                                    [key], {});\n",
              "        if (!dataTable) return;\n",
              "\n",
              "        const docLinkHtml = 'Like what you see? Visit the ' +\n",
              "          '<a target=\"_blank\" href=https://colab.research.google.com/notebooks/data_table.ipynb>data table notebook</a>'\n",
              "          + ' to learn more about interactive tables.';\n",
              "        element.innerHTML = '';\n",
              "        dataTable['output_type'] = 'display_data';\n",
              "        await google.colab.output.renderOutput(dataTable, element);\n",
              "        const docLink = document.createElement('div');\n",
              "        docLink.innerHTML = docLinkHtml;\n",
              "        element.appendChild(docLink);\n",
              "      }\n",
              "    </script>\n",
              "  </div>\n",
              "\n",
              "\n",
              "<div id=\"df-b7a11f23-1c1f-4989-8230-36e612e820f0\">\n",
              "  <button class=\"colab-df-quickchart\" onclick=\"quickchart('df-b7a11f23-1c1f-4989-8230-36e612e820f0')\"\n",
              "            title=\"Suggest charts\"\n",
              "            style=\"display:none;\">\n",
              "\n",
              "<svg xmlns=\"http://www.w3.org/2000/svg\" height=\"24px\"viewBox=\"0 0 24 24\"\n",
              "     width=\"24px\">\n",
              "    <g>\n",
              "        <path d=\"M19 3H5c-1.1 0-2 .9-2 2v14c0 1.1.9 2 2 2h14c1.1 0 2-.9 2-2V5c0-1.1-.9-2-2-2zM9 17H7v-7h2v7zm4 0h-2V7h2v10zm4 0h-2v-4h2v4z\"/>\n",
              "    </g>\n",
              "</svg>\n",
              "  </button>\n",
              "\n",
              "<style>\n",
              "  .colab-df-quickchart {\n",
              "      --bg-color: #E8F0FE;\n",
              "      --fill-color: #1967D2;\n",
              "      --hover-bg-color: #E2EBFA;\n",
              "      --hover-fill-color: #174EA6;\n",
              "      --disabled-fill-color: #AAA;\n",
              "      --disabled-bg-color: #DDD;\n",
              "  }\n",
              "\n",
              "  [theme=dark] .colab-df-quickchart {\n",
              "      --bg-color: #3B4455;\n",
              "      --fill-color: #D2E3FC;\n",
              "      --hover-bg-color: #434B5C;\n",
              "      --hover-fill-color: #FFFFFF;\n",
              "      --disabled-bg-color: #3B4455;\n",
              "      --disabled-fill-color: #666;\n",
              "  }\n",
              "\n",
              "  .colab-df-quickchart {\n",
              "    background-color: var(--bg-color);\n",
              "    border: none;\n",
              "    border-radius: 50%;\n",
              "    cursor: pointer;\n",
              "    display: none;\n",
              "    fill: var(--fill-color);\n",
              "    height: 32px;\n",
              "    padding: 0;\n",
              "    width: 32px;\n",
              "  }\n",
              "\n",
              "  .colab-df-quickchart:hover {\n",
              "    background-color: var(--hover-bg-color);\n",
              "    box-shadow: 0 1px 2px rgba(60, 64, 67, 0.3), 0 1px 3px 1px rgba(60, 64, 67, 0.15);\n",
              "    fill: var(--button-hover-fill-color);\n",
              "  }\n",
              "\n",
              "  .colab-df-quickchart-complete:disabled,\n",
              "  .colab-df-quickchart-complete:disabled:hover {\n",
              "    background-color: var(--disabled-bg-color);\n",
              "    fill: var(--disabled-fill-color);\n",
              "    box-shadow: none;\n",
              "  }\n",
              "\n",
              "  .colab-df-spinner {\n",
              "    border: 2px solid var(--fill-color);\n",
              "    border-color: transparent;\n",
              "    border-bottom-color: var(--fill-color);\n",
              "    animation:\n",
              "      spin 1s steps(1) infinite;\n",
              "  }\n",
              "\n",
              "  @keyframes spin {\n",
              "    0% {\n",
              "      border-color: transparent;\n",
              "      border-bottom-color: var(--fill-color);\n",
              "      border-left-color: var(--fill-color);\n",
              "    }\n",
              "    20% {\n",
              "      border-color: transparent;\n",
              "      border-left-color: var(--fill-color);\n",
              "      border-top-color: var(--fill-color);\n",
              "    }\n",
              "    30% {\n",
              "      border-color: transparent;\n",
              "      border-left-color: var(--fill-color);\n",
              "      border-top-color: var(--fill-color);\n",
              "      border-right-color: var(--fill-color);\n",
              "    }\n",
              "    40% {\n",
              "      border-color: transparent;\n",
              "      border-right-color: var(--fill-color);\n",
              "      border-top-color: var(--fill-color);\n",
              "    }\n",
              "    60% {\n",
              "      border-color: transparent;\n",
              "      border-right-color: var(--fill-color);\n",
              "    }\n",
              "    80% {\n",
              "      border-color: transparent;\n",
              "      border-right-color: var(--fill-color);\n",
              "      border-bottom-color: var(--fill-color);\n",
              "    }\n",
              "    90% {\n",
              "      border-color: transparent;\n",
              "      border-bottom-color: var(--fill-color);\n",
              "    }\n",
              "  }\n",
              "</style>\n",
              "\n",
              "  <script>\n",
              "    async function quickchart(key) {\n",
              "      const quickchartButtonEl =\n",
              "        document.querySelector('#' + key + ' button');\n",
              "      quickchartButtonEl.disabled = true;  // To prevent multiple clicks.\n",
              "      quickchartButtonEl.classList.add('colab-df-spinner');\n",
              "      try {\n",
              "        const charts = await google.colab.kernel.invokeFunction(\n",
              "            'suggestCharts', [key], {});\n",
              "      } catch (error) {\n",
              "        console.error('Error during call to suggestCharts:', error);\n",
              "      }\n",
              "      quickchartButtonEl.classList.remove('colab-df-spinner');\n",
              "      quickchartButtonEl.classList.add('colab-df-quickchart-complete');\n",
              "    }\n",
              "    (() => {\n",
              "      let quickchartButtonEl =\n",
              "        document.querySelector('#df-b7a11f23-1c1f-4989-8230-36e612e820f0 button');\n",
              "      quickchartButtonEl.style.display =\n",
              "        google.colab.kernel.accessAllowed ? 'block' : 'none';\n",
              "    })();\n",
              "  </script>\n",
              "</div>\n",
              "    </div>\n",
              "  </div>\n"
            ],
            "application/vnd.google.colaboratory.intrinsic+json": {
              "type": "dataframe",
              "variable_name": "dataframe1"
            }
          },
          "metadata": {},
          "execution_count": 10
        }
      ]
    },
    {
      "cell_type": "code",
      "source": [
        "# check null of target\n",
        "dataframe1['class'].isnull().sum()"
      ],
      "metadata": {
        "colab": {
          "base_uri": "https://localhost:8080/"
        },
        "id": "ReutpEZ2nxe2",
        "outputId": "21a9d654-bb3f-4333-a36c-eaec8630632a"
      },
      "execution_count": 11,
      "outputs": [
        {
          "output_type": "execute_result",
          "data": {
            "text/plain": [
              "0"
            ]
          },
          "metadata": {},
          "execution_count": 11
        }
      ]
    },
    {
      "cell_type": "markdown",
      "source": [
        "### Features type"
      ],
      "metadata": {
        "id": "CyW4Y5V8LuTg"
      }
    },
    {
      "cell_type": "code",
      "source": [
        "# specify data type\n",
        "dataframe1.dtypes"
      ],
      "metadata": {
        "colab": {
          "base_uri": "https://localhost:8080/"
        },
        "id": "PgpJK7J-pEKq",
        "outputId": "db9ac5f1-a2da-4ec8-885c-69b30ad7a9ec"
      },
      "execution_count": 12,
      "outputs": [
        {
          "output_type": "execute_result",
          "data": {
            "text/plain": [
              "Unnamed: 0                int64\n",
              "cap-diameter            float64\n",
              "cap-shape                object\n",
              "cap-surface              object\n",
              "cap-color                object\n",
              "does-bruise-or-bleed     object\n",
              "gill-attachment          object\n",
              "gill-spacing             object\n",
              "gill-color               object\n",
              "stem-height             float64\n",
              "stem-width              float64\n",
              "stem-root                object\n",
              "stem-surface             object\n",
              "stem-color               object\n",
              "veil-type                object\n",
              "veil-color               object\n",
              "has-ring                 object\n",
              "ring-type                object\n",
              "spore-print-color        object\n",
              "habitat                  object\n",
              "season                   object\n",
              "class                    object\n",
              "dtype: object"
            ]
          },
          "metadata": {},
          "execution_count": 12
        }
      ]
    },
    {
      "cell_type": "markdown",
      "source": [
        "### Handle missing values"
      ],
      "metadata": {
        "id": "fhw5Z9BqLaDK"
      }
    },
    {
      "cell_type": "code",
      "source": [
        "# count null of each feature\n",
        "dataframe1.isnull().sum()"
      ],
      "metadata": {
        "colab": {
          "base_uri": "https://localhost:8080/"
        },
        "id": "KsDPDRRzpmmp",
        "outputId": "8edc8a5b-a52e-4fcd-9aac-d390af2ff485"
      },
      "execution_count": 13,
      "outputs": [
        {
          "output_type": "execute_result",
          "data": {
            "text/plain": [
              "Unnamed: 0                  0\n",
              "cap-diameter                0\n",
              "cap-shape                   0\n",
              "cap-surface             14120\n",
              "cap-color                   0\n",
              "does-bruise-or-bleed        0\n",
              "gill-attachment          9884\n",
              "gill-spacing            25063\n",
              "gill-color                  0\n",
              "stem-height                 0\n",
              "stem-width                  0\n",
              "stem-root               51538\n",
              "stem-surface            38124\n",
              "stem-color                  0\n",
              "veil-type               57892\n",
              "veil-color              53656\n",
              "has-ring                    0\n",
              "ring-type                2471\n",
              "spore-print-color       54715\n",
              "habitat                     0\n",
              "season                      0\n",
              "class                       0\n",
              "dtype: int64"
            ]
          },
          "metadata": {},
          "execution_count": 13
        }
      ]
    },
    {
      "cell_type": "code",
      "source": [
        "# calculate num of all instances\n",
        "dataframe1.shape[0]"
      ],
      "metadata": {
        "colab": {
          "base_uri": "https://localhost:8080/"
        },
        "id": "wSfskyIt7hy6",
        "outputId": "079dbba5-c7c2-44a6-8a53-74535c9342f2"
      },
      "execution_count": 14,
      "outputs": [
        {
          "output_type": "execute_result",
          "data": {
            "text/plain": [
              "61069"
            ]
          },
          "metadata": {},
          "execution_count": 14
        }
      ]
    },
    {
      "cell_type": "code",
      "source": [
        "# specify count of unique values in 'cap-surface' feature\n",
        "dataframe1['cap-surface'].value_counts()"
      ],
      "metadata": {
        "colab": {
          "base_uri": "https://localhost:8080/"
        },
        "id": "H7osjp0aWBmH",
        "outputId": "f8a91dd7-8351-4997-80d0-4b2ba18cb83b"
      },
      "execution_count": 15,
      "outputs": [
        {
          "output_type": "execute_result",
          "data": {
            "text/plain": [
              "cap-surface\n",
              "t    8196\n",
              "s    7608\n",
              "y    6341\n",
              "h    4974\n",
              "g    4724\n",
              "d    4432\n",
              "e    2584\n",
              "k    2303\n",
              "i    2225\n",
              "w    2150\n",
              "l    1412\n",
              "Name: count, dtype: int64"
            ]
          },
          "metadata": {},
          "execution_count": 15
        }
      ]
    },
    {
      "cell_type": "code",
      "source": [
        "value_counts = dataframe1['cap-surface'].dropna().value_counts(normalize=True)\n",
        "\n",
        "# specify index of null values in 'cap-surface' feature\n",
        "null_indices = dataframe1['cap-surface'].isnull()\n",
        "\n",
        "# use frequency distribution to fill null values\n",
        "dataframe1.loc[null_indices, 'cap-surface'] = np.random.choice(value_counts.index, size=null_indices.sum(), p=value_counts.values)"
      ],
      "metadata": {
        "id": "y99uxSlSin40"
      },
      "execution_count": 16,
      "outputs": []
    },
    {
      "cell_type": "code",
      "source": [
        "# show values of 'cap-surface' feature after fill null values\n",
        "dataframe1['cap-surface'].value_counts"
      ],
      "metadata": {
        "id": "WiCG_eJhaAVh",
        "colab": {
          "base_uri": "https://localhost:8080/",
          "height": 203
        },
        "outputId": "82ad9362-c0c7-4293-843b-1f2af926189c"
      },
      "execution_count": 17,
      "outputs": [
        {
          "output_type": "execute_result",
          "data": {
            "text/plain": [
              "<bound method IndexOpsMixin.value_counts of 0        g\n",
              "1        g\n",
              "2        g\n",
              "3        h\n",
              "4        h\n",
              "        ..\n",
              "61064    s\n",
              "61065    s\n",
              "61066    s\n",
              "61067    s\n",
              "61068    s\n",
              "Name: cap-surface, Length: 61069, dtype: object>"
            ],
            "text/html": [
              "<div style=\"max-width:800px; border: 1px solid var(--colab-border-color);\"><style>\n",
              "      pre.function-repr-contents {\n",
              "        overflow-x: auto;\n",
              "        padding: 8px 12px;\n",
              "        max-height: 500px;\n",
              "      }\n",
              "\n",
              "      pre.function-repr-contents.function-repr-contents-collapsed {\n",
              "        cursor: pointer;\n",
              "        max-height: 100px;\n",
              "      }\n",
              "    </style>\n",
              "    <pre style=\"white-space: initial; background:\n",
              "         var(--colab-secondary-surface-color); padding: 8px 12px;\n",
              "         border-bottom: 1px solid var(--colab-border-color);\"><b>pandas.core.base.IndexOpsMixin.value_counts</b><br/>def value_counts(normalize: bool=False, sort: bool=True, ascending: bool=False, bins=None, dropna: bool=True) -&gt; Series</pre><pre class=\"function-repr-contents function-repr-contents-collapsed\" style=\"\"><a class=\"filepath\" style=\"display:none\" href=\"#\">/usr/local/lib/python3.10/dist-packages/pandas/core/base.py</a>Return a Series containing counts of unique values.\n",
              "\n",
              "The resulting object will be in descending order so that the\n",
              "first element is the most frequently-occurring element.\n",
              "Excludes NA values by default.\n",
              "\n",
              "Parameters\n",
              "----------\n",
              "normalize : bool, default False\n",
              "    If True then the object returned will contain the relative\n",
              "    frequencies of the unique values.\n",
              "sort : bool, default True\n",
              "    Sort by frequencies.\n",
              "ascending : bool, default False\n",
              "    Sort in ascending order.\n",
              "bins : int, optional\n",
              "    Rather than count values, group them into half-open bins,\n",
              "    a convenience for ``pd.cut``, only works with numeric data.\n",
              "dropna : bool, default True\n",
              "    Don&#x27;t include counts of NaN.\n",
              "\n",
              "Returns\n",
              "-------\n",
              "Series\n",
              "\n",
              "See Also\n",
              "--------\n",
              "Series.count: Number of non-NA elements in a Series.\n",
              "DataFrame.count: Number of non-NA elements in a DataFrame.\n",
              "DataFrame.value_counts: Equivalent method on DataFrames.\n",
              "\n",
              "Examples\n",
              "--------\n",
              "&gt;&gt;&gt; index = pd.Index([3, 1, 2, 3, 4, np.nan])\n",
              "&gt;&gt;&gt; index.value_counts()\n",
              "3.0    2\n",
              "1.0    1\n",
              "2.0    1\n",
              "4.0    1\n",
              "Name: count, dtype: int64\n",
              "\n",
              "With `normalize` set to `True`, returns the relative frequency by\n",
              "dividing all values by the sum of values.\n",
              "\n",
              "&gt;&gt;&gt; s = pd.Series([3, 1, 2, 3, 4, np.nan])\n",
              "&gt;&gt;&gt; s.value_counts(normalize=True)\n",
              "3.0    0.4\n",
              "1.0    0.2\n",
              "2.0    0.2\n",
              "4.0    0.2\n",
              "Name: proportion, dtype: float64\n",
              "\n",
              "**bins**\n",
              "\n",
              "Bins can be useful for going from a continuous variable to a\n",
              "categorical variable; instead of counting unique\n",
              "apparitions of values, divide the index in the specified\n",
              "number of half-open bins.\n",
              "\n",
              "&gt;&gt;&gt; s.value_counts(bins=3)\n",
              "(0.996, 2.0]    2\n",
              "(2.0, 3.0]      2\n",
              "(3.0, 4.0]      1\n",
              "Name: count, dtype: int64\n",
              "\n",
              "**dropna**\n",
              "\n",
              "With `dropna` set to `False` we can also see NaN index values.\n",
              "\n",
              "&gt;&gt;&gt; s.value_counts(dropna=False)\n",
              "3.0    2\n",
              "1.0    1\n",
              "2.0    1\n",
              "4.0    1\n",
              "NaN    1\n",
              "Name: count, dtype: int64</pre>\n",
              "      <script>\n",
              "      if (google.colab.kernel.accessAllowed && google.colab.files && google.colab.files.view) {\n",
              "        for (const element of document.querySelectorAll('.filepath')) {\n",
              "          element.style.display = 'block'\n",
              "          element.onclick = (event) => {\n",
              "            event.preventDefault();\n",
              "            event.stopPropagation();\n",
              "            google.colab.files.view(element.textContent, 928);\n",
              "          };\n",
              "        }\n",
              "      }\n",
              "      for (const element of document.querySelectorAll('.function-repr-contents')) {\n",
              "        element.onclick = (event) => {\n",
              "          event.preventDefault();\n",
              "          event.stopPropagation();\n",
              "          element.classList.toggle('function-repr-contents-collapsed');\n",
              "        };\n",
              "      }\n",
              "      </script>\n",
              "      </div>"
            ]
          },
          "metadata": {},
          "execution_count": 17
        }
      ]
    },
    {
      "cell_type": "code",
      "source": [
        "# check count of null values\n",
        "dataframe1.isnull().sum()"
      ],
      "metadata": {
        "colab": {
          "base_uri": "https://localhost:8080/"
        },
        "id": "ZmjNGwNDma3W",
        "outputId": "b6d6a0b9-d092-4172-828d-37af477a4bfe"
      },
      "execution_count": 18,
      "outputs": [
        {
          "output_type": "execute_result",
          "data": {
            "text/plain": [
              "Unnamed: 0                  0\n",
              "cap-diameter                0\n",
              "cap-shape                   0\n",
              "cap-surface                 0\n",
              "cap-color                   0\n",
              "does-bruise-or-bleed        0\n",
              "gill-attachment          9884\n",
              "gill-spacing            25063\n",
              "gill-color                  0\n",
              "stem-height                 0\n",
              "stem-width                  0\n",
              "stem-root               51538\n",
              "stem-surface            38124\n",
              "stem-color                  0\n",
              "veil-type               57892\n",
              "veil-color              53656\n",
              "has-ring                    0\n",
              "ring-type                2471\n",
              "spore-print-color       54715\n",
              "habitat                     0\n",
              "season                      0\n",
              "class                       0\n",
              "dtype: int64"
            ]
          },
          "metadata": {},
          "execution_count": 18
        }
      ]
    },
    {
      "cell_type": "code",
      "source": [
        "# specify count of unique values in 'gill-attachment' feature\n",
        "dataframe1['gill-attachment'].value_counts()"
      ],
      "metadata": {
        "colab": {
          "base_uri": "https://localhost:8080/"
        },
        "id": "UM8t9p-1mvYn",
        "outputId": "d6047dfa-560a-4f19-b732-85bb0a4ce5b9"
      },
      "execution_count": 19,
      "outputs": [
        {
          "output_type": "execute_result",
          "data": {
            "text/plain": [
              "gill-attachment\n",
              "a    12698\n",
              "d    10247\n",
              "x     7413\n",
              "p     6001\n",
              "e     5648\n",
              "s     5648\n",
              "f     3530\n",
              "Name: count, dtype: int64"
            ]
          },
          "metadata": {},
          "execution_count": 19
        }
      ]
    },
    {
      "cell_type": "code",
      "source": [
        "value_counts = dataframe1['gill-attachment'].dropna().value_counts(normalize=True)\n",
        "\n",
        "# specify index of null values in 'gill-attachment' feature\n",
        "null_indices = dataframe1['gill-attachment'].isnull()\n",
        "\n",
        "# use frequency distribution to fill null values\n",
        "dataframe1.loc[null_indices, 'gill-attachment'] = np.random.choice(value_counts.index, size=null_indices.sum(), p=value_counts.values)"
      ],
      "metadata": {
        "id": "faP9iRFZGpOn"
      },
      "execution_count": 20,
      "outputs": []
    },
    {
      "cell_type": "code",
      "source": [
        "# show values of 'gill-attachment' feature after fill null values\n",
        "dataframe1['gill-attachment'].value_counts()"
      ],
      "metadata": {
        "id": "6AMN-ehdafb6",
        "colab": {
          "base_uri": "https://localhost:8080/"
        },
        "outputId": "b5b05379-7d7a-47af-a2c9-f814ae7d2374"
      },
      "execution_count": 21,
      "outputs": [
        {
          "output_type": "execute_result",
          "data": {
            "text/plain": [
              "gill-attachment\n",
              "a    15177\n",
              "d    12272\n",
              "x     8819\n",
              "p     7150\n",
              "s     6733\n",
              "e     6719\n",
              "f     4199\n",
              "Name: count, dtype: int64"
            ]
          },
          "metadata": {},
          "execution_count": 21
        }
      ]
    },
    {
      "cell_type": "code",
      "source": [
        "# check count of null values\n",
        "dataframe1.isnull().sum()"
      ],
      "metadata": {
        "colab": {
          "base_uri": "https://localhost:8080/"
        },
        "id": "IWDIz6slmWb4",
        "outputId": "ce5668bc-3e91-4398-d476-460b7acec4f1"
      },
      "execution_count": 22,
      "outputs": [
        {
          "output_type": "execute_result",
          "data": {
            "text/plain": [
              "Unnamed: 0                  0\n",
              "cap-diameter                0\n",
              "cap-shape                   0\n",
              "cap-surface                 0\n",
              "cap-color                   0\n",
              "does-bruise-or-bleed        0\n",
              "gill-attachment             0\n",
              "gill-spacing            25063\n",
              "gill-color                  0\n",
              "stem-height                 0\n",
              "stem-width                  0\n",
              "stem-root               51538\n",
              "stem-surface            38124\n",
              "stem-color                  0\n",
              "veil-type               57892\n",
              "veil-color              53656\n",
              "has-ring                    0\n",
              "ring-type                2471\n",
              "spore-print-color       54715\n",
              "habitat                     0\n",
              "season                      0\n",
              "class                       0\n",
              "dtype: int64"
            ]
          },
          "metadata": {},
          "execution_count": 22
        }
      ]
    },
    {
      "cell_type": "code",
      "source": [
        "# check count of unique value in 'gill-spacing' feature\n",
        "dataframe1['gill-spacing'].value_counts()"
      ],
      "metadata": {
        "colab": {
          "base_uri": "https://localhost:8080/"
        },
        "id": "PDLbG-0WmgMi",
        "outputId": "944df8c5-7667-4e3a-b7dd-fd15198f8968"
      },
      "execution_count": 23,
      "outputs": [
        {
          "output_type": "execute_result",
          "data": {
            "text/plain": [
              "gill-spacing\n",
              "c    24710\n",
              "d     7766\n",
              "f     3530\n",
              "Name: count, dtype: int64"
            ]
          },
          "metadata": {},
          "execution_count": 23
        }
      ]
    },
    {
      "cell_type": "code",
      "source": [
        "# check count of unique value associated in class feature\n",
        "dataframe1.groupby(['gill-spacing', 'class']).size().unstack(fill_value=0)"
      ],
      "metadata": {
        "colab": {
          "base_uri": "https://localhost:8080/",
          "height": 174
        },
        "id": "Zq7dH8nToTH1",
        "outputId": "d6a081b2-1d83-4bd2-b99d-2a9e5777227a"
      },
      "execution_count": 24,
      "outputs": [
        {
          "output_type": "execute_result",
          "data": {
            "text/plain": [
              "class             e      p\n",
              "gill-spacing              \n",
              "c             10237  14473\n",
              "d              4589   3177\n",
              "f              1412   2118"
            ],
            "text/html": [
              "\n",
              "  <div id=\"df-c213d554-f088-418d-9ed0-6efcc744687b\" class=\"colab-df-container\">\n",
              "    <div>\n",
              "<style scoped>\n",
              "    .dataframe tbody tr th:only-of-type {\n",
              "        vertical-align: middle;\n",
              "    }\n",
              "\n",
              "    .dataframe tbody tr th {\n",
              "        vertical-align: top;\n",
              "    }\n",
              "\n",
              "    .dataframe thead th {\n",
              "        text-align: right;\n",
              "    }\n",
              "</style>\n",
              "<table border=\"1\" class=\"dataframe\">\n",
              "  <thead>\n",
              "    <tr style=\"text-align: right;\">\n",
              "      <th>class</th>\n",
              "      <th>e</th>\n",
              "      <th>p</th>\n",
              "    </tr>\n",
              "    <tr>\n",
              "      <th>gill-spacing</th>\n",
              "      <th></th>\n",
              "      <th></th>\n",
              "    </tr>\n",
              "  </thead>\n",
              "  <tbody>\n",
              "    <tr>\n",
              "      <th>c</th>\n",
              "      <td>10237</td>\n",
              "      <td>14473</td>\n",
              "    </tr>\n",
              "    <tr>\n",
              "      <th>d</th>\n",
              "      <td>4589</td>\n",
              "      <td>3177</td>\n",
              "    </tr>\n",
              "    <tr>\n",
              "      <th>f</th>\n",
              "      <td>1412</td>\n",
              "      <td>2118</td>\n",
              "    </tr>\n",
              "  </tbody>\n",
              "</table>\n",
              "</div>\n",
              "    <div class=\"colab-df-buttons\">\n",
              "\n",
              "  <div class=\"colab-df-container\">\n",
              "    <button class=\"colab-df-convert\" onclick=\"convertToInteractive('df-c213d554-f088-418d-9ed0-6efcc744687b')\"\n",
              "            title=\"Convert this dataframe to an interactive table.\"\n",
              "            style=\"display:none;\">\n",
              "\n",
              "  <svg xmlns=\"http://www.w3.org/2000/svg\" height=\"24px\" viewBox=\"0 -960 960 960\">\n",
              "    <path d=\"M120-120v-720h720v720H120Zm60-500h600v-160H180v160Zm220 220h160v-160H400v160Zm0 220h160v-160H400v160ZM180-400h160v-160H180v160Zm440 0h160v-160H620v160ZM180-180h160v-160H180v160Zm440 0h160v-160H620v160Z\"/>\n",
              "  </svg>\n",
              "    </button>\n",
              "\n",
              "  <style>\n",
              "    .colab-df-container {\n",
              "      display:flex;\n",
              "      gap: 12px;\n",
              "    }\n",
              "\n",
              "    .colab-df-convert {\n",
              "      background-color: #E8F0FE;\n",
              "      border: none;\n",
              "      border-radius: 50%;\n",
              "      cursor: pointer;\n",
              "      display: none;\n",
              "      fill: #1967D2;\n",
              "      height: 32px;\n",
              "      padding: 0 0 0 0;\n",
              "      width: 32px;\n",
              "    }\n",
              "\n",
              "    .colab-df-convert:hover {\n",
              "      background-color: #E2EBFA;\n",
              "      box-shadow: 0px 1px 2px rgba(60, 64, 67, 0.3), 0px 1px 3px 1px rgba(60, 64, 67, 0.15);\n",
              "      fill: #174EA6;\n",
              "    }\n",
              "\n",
              "    .colab-df-buttons div {\n",
              "      margin-bottom: 4px;\n",
              "    }\n",
              "\n",
              "    [theme=dark] .colab-df-convert {\n",
              "      background-color: #3B4455;\n",
              "      fill: #D2E3FC;\n",
              "    }\n",
              "\n",
              "    [theme=dark] .colab-df-convert:hover {\n",
              "      background-color: #434B5C;\n",
              "      box-shadow: 0px 1px 3px 1px rgba(0, 0, 0, 0.15);\n",
              "      filter: drop-shadow(0px 1px 2px rgba(0, 0, 0, 0.3));\n",
              "      fill: #FFFFFF;\n",
              "    }\n",
              "  </style>\n",
              "\n",
              "    <script>\n",
              "      const buttonEl =\n",
              "        document.querySelector('#df-c213d554-f088-418d-9ed0-6efcc744687b button.colab-df-convert');\n",
              "      buttonEl.style.display =\n",
              "        google.colab.kernel.accessAllowed ? 'block' : 'none';\n",
              "\n",
              "      async function convertToInteractive(key) {\n",
              "        const element = document.querySelector('#df-c213d554-f088-418d-9ed0-6efcc744687b');\n",
              "        const dataTable =\n",
              "          await google.colab.kernel.invokeFunction('convertToInteractive',\n",
              "                                                    [key], {});\n",
              "        if (!dataTable) return;\n",
              "\n",
              "        const docLinkHtml = 'Like what you see? Visit the ' +\n",
              "          '<a target=\"_blank\" href=https://colab.research.google.com/notebooks/data_table.ipynb>data table notebook</a>'\n",
              "          + ' to learn more about interactive tables.';\n",
              "        element.innerHTML = '';\n",
              "        dataTable['output_type'] = 'display_data';\n",
              "        await google.colab.output.renderOutput(dataTable, element);\n",
              "        const docLink = document.createElement('div');\n",
              "        docLink.innerHTML = docLinkHtml;\n",
              "        element.appendChild(docLink);\n",
              "      }\n",
              "    </script>\n",
              "  </div>\n",
              "\n",
              "\n",
              "<div id=\"df-5d7d0495-67a8-4860-aaa5-ef8cff54b9bf\">\n",
              "  <button class=\"colab-df-quickchart\" onclick=\"quickchart('df-5d7d0495-67a8-4860-aaa5-ef8cff54b9bf')\"\n",
              "            title=\"Suggest charts\"\n",
              "            style=\"display:none;\">\n",
              "\n",
              "<svg xmlns=\"http://www.w3.org/2000/svg\" height=\"24px\"viewBox=\"0 0 24 24\"\n",
              "     width=\"24px\">\n",
              "    <g>\n",
              "        <path d=\"M19 3H5c-1.1 0-2 .9-2 2v14c0 1.1.9 2 2 2h14c1.1 0 2-.9 2-2V5c0-1.1-.9-2-2-2zM9 17H7v-7h2v7zm4 0h-2V7h2v10zm4 0h-2v-4h2v4z\"/>\n",
              "    </g>\n",
              "</svg>\n",
              "  </button>\n",
              "\n",
              "<style>\n",
              "  .colab-df-quickchart {\n",
              "      --bg-color: #E8F0FE;\n",
              "      --fill-color: #1967D2;\n",
              "      --hover-bg-color: #E2EBFA;\n",
              "      --hover-fill-color: #174EA6;\n",
              "      --disabled-fill-color: #AAA;\n",
              "      --disabled-bg-color: #DDD;\n",
              "  }\n",
              "\n",
              "  [theme=dark] .colab-df-quickchart {\n",
              "      --bg-color: #3B4455;\n",
              "      --fill-color: #D2E3FC;\n",
              "      --hover-bg-color: #434B5C;\n",
              "      --hover-fill-color: #FFFFFF;\n",
              "      --disabled-bg-color: #3B4455;\n",
              "      --disabled-fill-color: #666;\n",
              "  }\n",
              "\n",
              "  .colab-df-quickchart {\n",
              "    background-color: var(--bg-color);\n",
              "    border: none;\n",
              "    border-radius: 50%;\n",
              "    cursor: pointer;\n",
              "    display: none;\n",
              "    fill: var(--fill-color);\n",
              "    height: 32px;\n",
              "    padding: 0;\n",
              "    width: 32px;\n",
              "  }\n",
              "\n",
              "  .colab-df-quickchart:hover {\n",
              "    background-color: var(--hover-bg-color);\n",
              "    box-shadow: 0 1px 2px rgba(60, 64, 67, 0.3), 0 1px 3px 1px rgba(60, 64, 67, 0.15);\n",
              "    fill: var(--button-hover-fill-color);\n",
              "  }\n",
              "\n",
              "  .colab-df-quickchart-complete:disabled,\n",
              "  .colab-df-quickchart-complete:disabled:hover {\n",
              "    background-color: var(--disabled-bg-color);\n",
              "    fill: var(--disabled-fill-color);\n",
              "    box-shadow: none;\n",
              "  }\n",
              "\n",
              "  .colab-df-spinner {\n",
              "    border: 2px solid var(--fill-color);\n",
              "    border-color: transparent;\n",
              "    border-bottom-color: var(--fill-color);\n",
              "    animation:\n",
              "      spin 1s steps(1) infinite;\n",
              "  }\n",
              "\n",
              "  @keyframes spin {\n",
              "    0% {\n",
              "      border-color: transparent;\n",
              "      border-bottom-color: var(--fill-color);\n",
              "      border-left-color: var(--fill-color);\n",
              "    }\n",
              "    20% {\n",
              "      border-color: transparent;\n",
              "      border-left-color: var(--fill-color);\n",
              "      border-top-color: var(--fill-color);\n",
              "    }\n",
              "    30% {\n",
              "      border-color: transparent;\n",
              "      border-left-color: var(--fill-color);\n",
              "      border-top-color: var(--fill-color);\n",
              "      border-right-color: var(--fill-color);\n",
              "    }\n",
              "    40% {\n",
              "      border-color: transparent;\n",
              "      border-right-color: var(--fill-color);\n",
              "      border-top-color: var(--fill-color);\n",
              "    }\n",
              "    60% {\n",
              "      border-color: transparent;\n",
              "      border-right-color: var(--fill-color);\n",
              "    }\n",
              "    80% {\n",
              "      border-color: transparent;\n",
              "      border-right-color: var(--fill-color);\n",
              "      border-bottom-color: var(--fill-color);\n",
              "    }\n",
              "    90% {\n",
              "      border-color: transparent;\n",
              "      border-bottom-color: var(--fill-color);\n",
              "    }\n",
              "  }\n",
              "</style>\n",
              "\n",
              "  <script>\n",
              "    async function quickchart(key) {\n",
              "      const quickchartButtonEl =\n",
              "        document.querySelector('#' + key + ' button');\n",
              "      quickchartButtonEl.disabled = true;  // To prevent multiple clicks.\n",
              "      quickchartButtonEl.classList.add('colab-df-spinner');\n",
              "      try {\n",
              "        const charts = await google.colab.kernel.invokeFunction(\n",
              "            'suggestCharts', [key], {});\n",
              "      } catch (error) {\n",
              "        console.error('Error during call to suggestCharts:', error);\n",
              "      }\n",
              "      quickchartButtonEl.classList.remove('colab-df-spinner');\n",
              "      quickchartButtonEl.classList.add('colab-df-quickchart-complete');\n",
              "    }\n",
              "    (() => {\n",
              "      let quickchartButtonEl =\n",
              "        document.querySelector('#df-5d7d0495-67a8-4860-aaa5-ef8cff54b9bf button');\n",
              "      quickchartButtonEl.style.display =\n",
              "        google.colab.kernel.accessAllowed ? 'block' : 'none';\n",
              "    })();\n",
              "  </script>\n",
              "</div>\n",
              "    </div>\n",
              "  </div>\n"
            ],
            "application/vnd.google.colaboratory.intrinsic+json": {
              "type": "dataframe",
              "summary": "{\n  \"name\": \"dataframe1\",\n  \"rows\": 3,\n  \"fields\": [\n    {\n      \"column\": \"gill-spacing\",\n      \"properties\": {\n        \"dtype\": \"string\",\n        \"num_unique_values\": 3,\n        \"samples\": [\n          \"c\",\n          \"d\",\n          \"f\"\n        ],\n        \"semantic_type\": \"\",\n        \"description\": \"\"\n      }\n    },\n    {\n      \"column\": \"e\",\n      \"properties\": {\n        \"dtype\": \"number\",\n        \"std\": 4469,\n        \"min\": 1412,\n        \"max\": 10237,\n        \"num_unique_values\": 3,\n        \"samples\": [\n          10237,\n          4589,\n          1412\n        ],\n        \"semantic_type\": \"\",\n        \"description\": \"\"\n      }\n    },\n    {\n      \"column\": \"p\",\n      \"properties\": {\n        \"dtype\": \"number\",\n        \"std\": 6847,\n        \"min\": 2118,\n        \"max\": 14473,\n        \"num_unique_values\": 3,\n        \"samples\": [\n          14473,\n          3177,\n          2118\n        ],\n        \"semantic_type\": \"\",\n        \"description\": \"\"\n      }\n    }\n  ]\n}"
            }
          },
          "metadata": {},
          "execution_count": 24
        }
      ]
    },
    {
      "cell_type": "code",
      "source": [
        "# drop features that null values is high\n",
        "dataframe1.drop(['gill-spacing', 'stem-root', 'stem-surface', 'veil-type', 'veil-color', 'spore-print-color'], axis=1, inplace=True)"
      ],
      "metadata": {
        "id": "RkqjjeAkrcpA"
      },
      "execution_count": 25,
      "outputs": []
    },
    {
      "cell_type": "code",
      "source": [
        "dataframe1.shape"
      ],
      "metadata": {
        "colab": {
          "base_uri": "https://localhost:8080/"
        },
        "id": "cDDMWU9avJYk",
        "outputId": "5aa4e53b-19d0-497c-8d42-aaf67744fc71"
      },
      "execution_count": 26,
      "outputs": [
        {
          "output_type": "execute_result",
          "data": {
            "text/plain": [
              "(61069, 16)"
            ]
          },
          "metadata": {},
          "execution_count": 26
        }
      ]
    },
    {
      "cell_type": "code",
      "source": [
        "# check count of null values\n",
        "dataframe1.isnull().sum()"
      ],
      "metadata": {
        "colab": {
          "base_uri": "https://localhost:8080/"
        },
        "id": "USBOB8m8vKeF",
        "outputId": "ce12250f-bab4-4902-93b4-d8296ef60002"
      },
      "execution_count": 27,
      "outputs": [
        {
          "output_type": "execute_result",
          "data": {
            "text/plain": [
              "Unnamed: 0                 0\n",
              "cap-diameter               0\n",
              "cap-shape                  0\n",
              "cap-surface                0\n",
              "cap-color                  0\n",
              "does-bruise-or-bleed       0\n",
              "gill-attachment            0\n",
              "gill-color                 0\n",
              "stem-height                0\n",
              "stem-width                 0\n",
              "stem-color                 0\n",
              "has-ring                   0\n",
              "ring-type               2471\n",
              "habitat                    0\n",
              "season                     0\n",
              "class                      0\n",
              "dtype: int64"
            ]
          },
          "metadata": {},
          "execution_count": 27
        }
      ]
    },
    {
      "cell_type": "code",
      "source": [
        "# check count of unique values of 'ring-type' feature\n",
        "dataframe1['ring-type'].value_counts()"
      ],
      "metadata": {
        "colab": {
          "base_uri": "https://localhost:8080/"
        },
        "id": "Hx40OdX_vMjW",
        "outputId": "5aea121d-9f5e-4133-a420-6bc8c194a07f"
      },
      "execution_count": 28,
      "outputs": [
        {
          "output_type": "execute_result",
          "data": {
            "text/plain": [
              "ring-type\n",
              "f    48361\n",
              "e     2435\n",
              "z     2118\n",
              "l     1427\n",
              "r     1399\n",
              "p     1265\n",
              "g     1240\n",
              "m      353\n",
              "Name: count, dtype: int64"
            ]
          },
          "metadata": {},
          "execution_count": 28
        }
      ]
    },
    {
      "cell_type": "code",
      "source": [
        "# using mode to fill null values\n",
        "dataframe1['ring-type'].fillna(dataframe1['ring-type'].mode()[0], inplace=True)"
      ],
      "metadata": {
        "id": "0irNvYPovUw3"
      },
      "execution_count": 29,
      "outputs": []
    },
    {
      "cell_type": "code",
      "source": [
        "# check count of unique values of 'ring-type' feature\n",
        "dataframe1['ring-type'].value_counts()"
      ],
      "metadata": {
        "colab": {
          "base_uri": "https://localhost:8080/"
        },
        "id": "yYyAJXo4wOR-",
        "outputId": "817b3da6-e16d-48a6-9714-f33789645863"
      },
      "execution_count": 30,
      "outputs": [
        {
          "output_type": "execute_result",
          "data": {
            "text/plain": [
              "ring-type\n",
              "f    50832\n",
              "e     2435\n",
              "z     2118\n",
              "l     1427\n",
              "r     1399\n",
              "p     1265\n",
              "g     1240\n",
              "m      353\n",
              "Name: count, dtype: int64"
            ]
          },
          "metadata": {},
          "execution_count": 30
        }
      ]
    },
    {
      "cell_type": "code",
      "source": [
        "# check count of null values\n",
        "dataframe1.isnull().sum()"
      ],
      "metadata": {
        "colab": {
          "base_uri": "https://localhost:8080/"
        },
        "id": "KU5bmxLqwPP9",
        "outputId": "56718fc5-2f28-4b09-ed79-8c0632f39b95"
      },
      "execution_count": 31,
      "outputs": [
        {
          "output_type": "execute_result",
          "data": {
            "text/plain": [
              "Unnamed: 0              0\n",
              "cap-diameter            0\n",
              "cap-shape               0\n",
              "cap-surface             0\n",
              "cap-color               0\n",
              "does-bruise-or-bleed    0\n",
              "gill-attachment         0\n",
              "gill-color              0\n",
              "stem-height             0\n",
              "stem-width              0\n",
              "stem-color              0\n",
              "has-ring                0\n",
              "ring-type               0\n",
              "habitat                 0\n",
              "season                  0\n",
              "class                   0\n",
              "dtype: int64"
            ]
          },
          "metadata": {},
          "execution_count": 31
        }
      ]
    },
    {
      "cell_type": "code",
      "source": [
        "# chaeck new shape of dataframe1\n",
        "dataframe1.shape"
      ],
      "metadata": {
        "colab": {
          "base_uri": "https://localhost:8080/"
        },
        "id": "-GaF0_5WwcTl",
        "outputId": "0b154b76-e265-4319-b5e7-aeba7b3546fc"
      },
      "execution_count": 32,
      "outputs": [
        {
          "output_type": "execute_result",
          "data": {
            "text/plain": [
              "(61069, 16)"
            ]
          },
          "metadata": {},
          "execution_count": 32
        }
      ]
    },
    {
      "cell_type": "markdown",
      "source": [
        "### binary encoding vs one-hot encoding for 'cap-shape'"
      ],
      "metadata": {
        "id": "CGoD4928mfZ5"
      }
    },
    {
      "cell_type": "markdown",
      "source": [
        "One-hot encoder"
      ],
      "metadata": {
        "id": "_kg2_tijnjn_"
      }
    },
    {
      "cell_type": "code",
      "source": [
        "# for compare\n",
        "df1 = dataframe1"
      ],
      "metadata": {
        "id": "KvvNkvMK_Zpb"
      },
      "execution_count": 33,
      "outputs": []
    },
    {
      "cell_type": "code",
      "source": [
        "df = pd.get_dummies(df1, columns=['cap-shape'])"
      ],
      "metadata": {
        "id": "D6lYro7V--f-"
      },
      "execution_count": 34,
      "outputs": []
    },
    {
      "cell_type": "code",
      "source": [
        "# set the encoder and the column to encode\n",
        "column_transformer = ColumnTransformer([('one_hot_encoder', OneHotEncoder(), ['cap-shape'])], remainder='passthrough')"
      ],
      "metadata": {
        "id": "aehbVw3G_Fjw"
      },
      "execution_count": 35,
      "outputs": []
    },
    {
      "cell_type": "code",
      "source": [
        "# encode based on column_transformer\n",
        "df_encoded = column_transformer.fit_transform(df1)\n",
        "\n",
        "# bulid new columns\n",
        "new_columns = [f'cap-shape_{category}' for category in column_transformer.named_transformers_['one_hot_encoder'].categories_[0]] + [col for col in df1.columns if col != 'cap-shape']\n",
        "\n",
        "# build final df\n",
        "df_one_hot_encoded = pd.DataFrame(df_encoded, columns=new_columns)"
      ],
      "metadata": {
        "id": "8zoM8k1i_OzH"
      },
      "execution_count": 36,
      "outputs": []
    },
    {
      "cell_type": "code",
      "source": [
        "df_one_hot_encoded.info()"
      ],
      "metadata": {
        "colab": {
          "base_uri": "https://localhost:8080/"
        },
        "id": "0xi9jGo5BgVn",
        "outputId": "86347f78-ed6c-45e3-98c2-079ce582ebd4"
      },
      "execution_count": 37,
      "outputs": [
        {
          "output_type": "stream",
          "name": "stdout",
          "text": [
            "<class 'pandas.core.frame.DataFrame'>\n",
            "RangeIndex: 61069 entries, 0 to 61068\n",
            "Data columns (total 22 columns):\n",
            " #   Column                Non-Null Count  Dtype \n",
            "---  ------                --------------  ----- \n",
            " 0   cap-shape_b           61069 non-null  object\n",
            " 1   cap-shape_c           61069 non-null  object\n",
            " 2   cap-shape_f           61069 non-null  object\n",
            " 3   cap-shape_o           61069 non-null  object\n",
            " 4   cap-shape_p           61069 non-null  object\n",
            " 5   cap-shape_s           61069 non-null  object\n",
            " 6   cap-shape_x           61069 non-null  object\n",
            " 7   Unnamed: 0            61069 non-null  object\n",
            " 8   cap-diameter          61069 non-null  object\n",
            " 9   cap-surface           61069 non-null  object\n",
            " 10  cap-color             61069 non-null  object\n",
            " 11  does-bruise-or-bleed  61069 non-null  object\n",
            " 12  gill-attachment       61069 non-null  object\n",
            " 13  gill-color            61069 non-null  object\n",
            " 14  stem-height           61069 non-null  object\n",
            " 15  stem-width            61069 non-null  object\n",
            " 16  stem-color            61069 non-null  object\n",
            " 17  has-ring              61069 non-null  object\n",
            " 18  ring-type             61069 non-null  object\n",
            " 19  habitat               61069 non-null  object\n",
            " 20  season                61069 non-null  object\n",
            " 21  class                 61069 non-null  object\n",
            "dtypes: object(22)\n",
            "memory usage: 10.3+ MB\n"
          ]
        }
      ]
    },
    {
      "cell_type": "markdown",
      "source": [
        "Binary encoder"
      ],
      "metadata": {
        "id": "99NmG7MbnpHN"
      }
    },
    {
      "cell_type": "code",
      "source": [
        "df2 = dataframe1"
      ],
      "metadata": {
        "id": "FW-g3-H1B8no"
      },
      "execution_count": 38,
      "outputs": []
    },
    {
      "cell_type": "code",
      "source": [
        "# define binary encoder\n",
        "encoder = BinaryEncoder(cols=['cap-shape'])\n",
        "\n",
        "# fit encoder\n",
        "df_binary_encoded = encoder.fit_transform(df2)"
      ],
      "metadata": {
        "id": "J9wFNc5aCBoF"
      },
      "execution_count": 39,
      "outputs": []
    },
    {
      "cell_type": "code",
      "source": [
        "df_binary_encoded.info()"
      ],
      "metadata": {
        "colab": {
          "base_uri": "https://localhost:8080/"
        },
        "id": "VUs7B3WVC-KI",
        "outputId": "bc39c19b-744b-4775-e2a6-b4dea886712b"
      },
      "execution_count": 40,
      "outputs": [
        {
          "output_type": "stream",
          "name": "stdout",
          "text": [
            "<class 'pandas.core.frame.DataFrame'>\n",
            "RangeIndex: 61069 entries, 0 to 61068\n",
            "Data columns (total 18 columns):\n",
            " #   Column                Non-Null Count  Dtype  \n",
            "---  ------                --------------  -----  \n",
            " 0   Unnamed: 0            61069 non-null  int64  \n",
            " 1   cap-diameter          61069 non-null  float64\n",
            " 2   cap-shape_0           61069 non-null  int64  \n",
            " 3   cap-shape_1           61069 non-null  int64  \n",
            " 4   cap-shape_2           61069 non-null  int64  \n",
            " 5   cap-surface           61069 non-null  object \n",
            " 6   cap-color             61069 non-null  object \n",
            " 7   does-bruise-or-bleed  61069 non-null  object \n",
            " 8   gill-attachment       61069 non-null  object \n",
            " 9   gill-color            61069 non-null  object \n",
            " 10  stem-height           61069 non-null  float64\n",
            " 11  stem-width            61069 non-null  float64\n",
            " 12  stem-color            61069 non-null  object \n",
            " 13  has-ring              61069 non-null  object \n",
            " 14  ring-type             61069 non-null  object \n",
            " 15  habitat               61069 non-null  object \n",
            " 16  season                61069 non-null  object \n",
            " 17  class                 61069 non-null  object \n",
            "dtypes: float64(3), int64(4), object(11)\n",
            "memory usage: 8.4+ MB\n"
          ]
        }
      ]
    },
    {
      "cell_type": "markdown",
      "source": [
        "As it turns out, using binary encoding can be a better choice. Additional details are given in the report"
      ],
      "metadata": {
        "id": "ZNudxvkNoCXo"
      }
    },
    {
      "cell_type": "code",
      "source": [
        "# find categorical feature\n",
        "#categorical_columns = dataframe1.select_dtypes(include=['object', 'category']).columns\n",
        "\n",
        "#unique_counts = dataframe1[categorical_columns].nunique()"
      ],
      "metadata": {
        "id": "qKSNZsZpos_3"
      },
      "execution_count": 41,
      "outputs": []
    },
    {
      "cell_type": "code",
      "source": [
        "#df4 = dataframe1"
      ],
      "metadata": {
        "id": "6T9Ew5SXtvfq"
      },
      "execution_count": 42,
      "outputs": []
    },
    {
      "cell_type": "code",
      "source": [
        "#column_transformer = ColumnTransformer([('one_hot_encoder', OneHotEncoder(), ['class'])], remainder='passthrough')"
      ],
      "metadata": {
        "id": "uuBp0w2Ht3Vv"
      },
      "execution_count": 43,
      "outputs": []
    },
    {
      "cell_type": "code",
      "source": [
        "#df_encoded_class = column_transformer.fit_transform(df4)\n",
        "\n",
        "# bulid new columns\n",
        "#new_columns = [f'class_{category}' for category in column_transformer.named_transformers_['one_hot_encoder'].categories_[0]] + [col for col in df4.columns if col != 'class']\n",
        "\n",
        "# build final df\n",
        "#df_one_hot_encoded_class = pd.DataFrame(df_encoded_class, columns=new_columns)"
      ],
      "metadata": {
        "id": "rF0JT-GWt5RW"
      },
      "execution_count": 44,
      "outputs": []
    },
    {
      "cell_type": "code",
      "source": [
        "#df_one_hot_encoded_class"
      ],
      "metadata": {
        "id": "1m7bgZbSt6jl"
      },
      "execution_count": 45,
      "outputs": []
    },
    {
      "cell_type": "code",
      "source": [
        "# find features that contains 2 unique values\n",
        "binary_columns = [col for col in dataframe1.columns if dataframe1[col].nunique() == 2]\n",
        "\n",
        "# find features that are categorical with greater than 2 unique values\n",
        "categorical_columns = [col for col in dataframe1.columns if dataframe1[col].dtype == 'object' and dataframe1[col].nunique() > 2]"
      ],
      "metadata": {
        "id": "-obxkCSCt74E"
      },
      "execution_count": 46,
      "outputs": []
    },
    {
      "cell_type": "code",
      "source": [
        "# map binary features\n",
        "for col in binary_columns:\n",
        "    values = dataframe1[col].unique()\n",
        "    dataframe1[col] = dataframe1[col].map({values[0]: 0, values[1]: 1})"
      ],
      "metadata": {
        "id": "StZLyadHu3Sm"
      },
      "execution_count": 47,
      "outputs": []
    },
    {
      "cell_type": "code",
      "source": [
        "# set encoder to categorical data\n",
        "encoder = BinaryEncoder(cols=categorical_columns)\n",
        "\n",
        "# fit encoder to categorical data\n",
        "dataframe1 = encoder.fit_transform(dataframe1)"
      ],
      "metadata": {
        "id": "Seuq0fK5wl9E"
      },
      "execution_count": 48,
      "outputs": []
    },
    {
      "cell_type": "code",
      "source": [
        "dataframe1.head(5)"
      ],
      "metadata": {
        "colab": {
          "base_uri": "https://localhost:8080/",
          "height": 272
        },
        "id": "MAU4Lf6pxh6O",
        "outputId": "862bb41b-b930-4c22-b383-c2413e8c6fa0"
      },
      "execution_count": 49,
      "outputs": [
        {
          "output_type": "execute_result",
          "data": {
            "text/plain": [
              "   Unnamed: 0  cap-diameter  cap-shape_0  cap-shape_1  cap-shape_2  \\\n",
              "0           0         15.26            0            0            1   \n",
              "1           1         16.60            0            0            1   \n",
              "2           2         14.07            0            0            1   \n",
              "3           3         14.17            0            1            0   \n",
              "4           4         14.64            0            0            1   \n",
              "\n",
              "   cap-surface_0  cap-surface_1  cap-surface_2  cap-surface_3  cap-color_0  \\\n",
              "0              0              0              0              1            0   \n",
              "1              0              0              0              1            0   \n",
              "2              0              0              0              1            0   \n",
              "3              0              0              1              0            0   \n",
              "4              0              0              1              0            0   \n",
              "\n",
              "   ...  ring-type_2  ring-type_3  habitat_0  habitat_1  habitat_2  habitat_3  \\\n",
              "0  ...            0            1          0          0          0          1   \n",
              "1  ...            0            1          0          0          0          1   \n",
              "2  ...            0            1          0          0          0          1   \n",
              "3  ...            1            0          0          0          0          1   \n",
              "4  ...            1            0          0          0          0          1   \n",
              "\n",
              "   season_0  season_1  season_2  class  \n",
              "0         0         0         1      0  \n",
              "1         0         1         0      0  \n",
              "2         0         0         1      0  \n",
              "3         0         0         1      0  \n",
              "4         0         0         1      0  \n",
              "\n",
              "[5 rows x 40 columns]"
            ],
            "text/html": [
              "\n",
              "  <div id=\"df-1db6e00a-56b0-4d68-8bf3-45294a243351\" class=\"colab-df-container\">\n",
              "    <div>\n",
              "<style scoped>\n",
              "    .dataframe tbody tr th:only-of-type {\n",
              "        vertical-align: middle;\n",
              "    }\n",
              "\n",
              "    .dataframe tbody tr th {\n",
              "        vertical-align: top;\n",
              "    }\n",
              "\n",
              "    .dataframe thead th {\n",
              "        text-align: right;\n",
              "    }\n",
              "</style>\n",
              "<table border=\"1\" class=\"dataframe\">\n",
              "  <thead>\n",
              "    <tr style=\"text-align: right;\">\n",
              "      <th></th>\n",
              "      <th>Unnamed: 0</th>\n",
              "      <th>cap-diameter</th>\n",
              "      <th>cap-shape_0</th>\n",
              "      <th>cap-shape_1</th>\n",
              "      <th>cap-shape_2</th>\n",
              "      <th>cap-surface_0</th>\n",
              "      <th>cap-surface_1</th>\n",
              "      <th>cap-surface_2</th>\n",
              "      <th>cap-surface_3</th>\n",
              "      <th>cap-color_0</th>\n",
              "      <th>...</th>\n",
              "      <th>ring-type_2</th>\n",
              "      <th>ring-type_3</th>\n",
              "      <th>habitat_0</th>\n",
              "      <th>habitat_1</th>\n",
              "      <th>habitat_2</th>\n",
              "      <th>habitat_3</th>\n",
              "      <th>season_0</th>\n",
              "      <th>season_1</th>\n",
              "      <th>season_2</th>\n",
              "      <th>class</th>\n",
              "    </tr>\n",
              "  </thead>\n",
              "  <tbody>\n",
              "    <tr>\n",
              "      <th>0</th>\n",
              "      <td>0</td>\n",
              "      <td>15.26</td>\n",
              "      <td>0</td>\n",
              "      <td>0</td>\n",
              "      <td>1</td>\n",
              "      <td>0</td>\n",
              "      <td>0</td>\n",
              "      <td>0</td>\n",
              "      <td>1</td>\n",
              "      <td>0</td>\n",
              "      <td>...</td>\n",
              "      <td>0</td>\n",
              "      <td>1</td>\n",
              "      <td>0</td>\n",
              "      <td>0</td>\n",
              "      <td>0</td>\n",
              "      <td>1</td>\n",
              "      <td>0</td>\n",
              "      <td>0</td>\n",
              "      <td>1</td>\n",
              "      <td>0</td>\n",
              "    </tr>\n",
              "    <tr>\n",
              "      <th>1</th>\n",
              "      <td>1</td>\n",
              "      <td>16.60</td>\n",
              "      <td>0</td>\n",
              "      <td>0</td>\n",
              "      <td>1</td>\n",
              "      <td>0</td>\n",
              "      <td>0</td>\n",
              "      <td>0</td>\n",
              "      <td>1</td>\n",
              "      <td>0</td>\n",
              "      <td>...</td>\n",
              "      <td>0</td>\n",
              "      <td>1</td>\n",
              "      <td>0</td>\n",
              "      <td>0</td>\n",
              "      <td>0</td>\n",
              "      <td>1</td>\n",
              "      <td>0</td>\n",
              "      <td>1</td>\n",
              "      <td>0</td>\n",
              "      <td>0</td>\n",
              "    </tr>\n",
              "    <tr>\n",
              "      <th>2</th>\n",
              "      <td>2</td>\n",
              "      <td>14.07</td>\n",
              "      <td>0</td>\n",
              "      <td>0</td>\n",
              "      <td>1</td>\n",
              "      <td>0</td>\n",
              "      <td>0</td>\n",
              "      <td>0</td>\n",
              "      <td>1</td>\n",
              "      <td>0</td>\n",
              "      <td>...</td>\n",
              "      <td>0</td>\n",
              "      <td>1</td>\n",
              "      <td>0</td>\n",
              "      <td>0</td>\n",
              "      <td>0</td>\n",
              "      <td>1</td>\n",
              "      <td>0</td>\n",
              "      <td>0</td>\n",
              "      <td>1</td>\n",
              "      <td>0</td>\n",
              "    </tr>\n",
              "    <tr>\n",
              "      <th>3</th>\n",
              "      <td>3</td>\n",
              "      <td>14.17</td>\n",
              "      <td>0</td>\n",
              "      <td>1</td>\n",
              "      <td>0</td>\n",
              "      <td>0</td>\n",
              "      <td>0</td>\n",
              "      <td>1</td>\n",
              "      <td>0</td>\n",
              "      <td>0</td>\n",
              "      <td>...</td>\n",
              "      <td>1</td>\n",
              "      <td>0</td>\n",
              "      <td>0</td>\n",
              "      <td>0</td>\n",
              "      <td>0</td>\n",
              "      <td>1</td>\n",
              "      <td>0</td>\n",
              "      <td>0</td>\n",
              "      <td>1</td>\n",
              "      <td>0</td>\n",
              "    </tr>\n",
              "    <tr>\n",
              "      <th>4</th>\n",
              "      <td>4</td>\n",
              "      <td>14.64</td>\n",
              "      <td>0</td>\n",
              "      <td>0</td>\n",
              "      <td>1</td>\n",
              "      <td>0</td>\n",
              "      <td>0</td>\n",
              "      <td>1</td>\n",
              "      <td>0</td>\n",
              "      <td>0</td>\n",
              "      <td>...</td>\n",
              "      <td>1</td>\n",
              "      <td>0</td>\n",
              "      <td>0</td>\n",
              "      <td>0</td>\n",
              "      <td>0</td>\n",
              "      <td>1</td>\n",
              "      <td>0</td>\n",
              "      <td>0</td>\n",
              "      <td>1</td>\n",
              "      <td>0</td>\n",
              "    </tr>\n",
              "  </tbody>\n",
              "</table>\n",
              "<p>5 rows × 40 columns</p>\n",
              "</div>\n",
              "    <div class=\"colab-df-buttons\">\n",
              "\n",
              "  <div class=\"colab-df-container\">\n",
              "    <button class=\"colab-df-convert\" onclick=\"convertToInteractive('df-1db6e00a-56b0-4d68-8bf3-45294a243351')\"\n",
              "            title=\"Convert this dataframe to an interactive table.\"\n",
              "            style=\"display:none;\">\n",
              "\n",
              "  <svg xmlns=\"http://www.w3.org/2000/svg\" height=\"24px\" viewBox=\"0 -960 960 960\">\n",
              "    <path d=\"M120-120v-720h720v720H120Zm60-500h600v-160H180v160Zm220 220h160v-160H400v160Zm0 220h160v-160H400v160ZM180-400h160v-160H180v160Zm440 0h160v-160H620v160ZM180-180h160v-160H180v160Zm440 0h160v-160H620v160Z\"/>\n",
              "  </svg>\n",
              "    </button>\n",
              "\n",
              "  <style>\n",
              "    .colab-df-container {\n",
              "      display:flex;\n",
              "      gap: 12px;\n",
              "    }\n",
              "\n",
              "    .colab-df-convert {\n",
              "      background-color: #E8F0FE;\n",
              "      border: none;\n",
              "      border-radius: 50%;\n",
              "      cursor: pointer;\n",
              "      display: none;\n",
              "      fill: #1967D2;\n",
              "      height: 32px;\n",
              "      padding: 0 0 0 0;\n",
              "      width: 32px;\n",
              "    }\n",
              "\n",
              "    .colab-df-convert:hover {\n",
              "      background-color: #E2EBFA;\n",
              "      box-shadow: 0px 1px 2px rgba(60, 64, 67, 0.3), 0px 1px 3px 1px rgba(60, 64, 67, 0.15);\n",
              "      fill: #174EA6;\n",
              "    }\n",
              "\n",
              "    .colab-df-buttons div {\n",
              "      margin-bottom: 4px;\n",
              "    }\n",
              "\n",
              "    [theme=dark] .colab-df-convert {\n",
              "      background-color: #3B4455;\n",
              "      fill: #D2E3FC;\n",
              "    }\n",
              "\n",
              "    [theme=dark] .colab-df-convert:hover {\n",
              "      background-color: #434B5C;\n",
              "      box-shadow: 0px 1px 3px 1px rgba(0, 0, 0, 0.15);\n",
              "      filter: drop-shadow(0px 1px 2px rgba(0, 0, 0, 0.3));\n",
              "      fill: #FFFFFF;\n",
              "    }\n",
              "  </style>\n",
              "\n",
              "    <script>\n",
              "      const buttonEl =\n",
              "        document.querySelector('#df-1db6e00a-56b0-4d68-8bf3-45294a243351 button.colab-df-convert');\n",
              "      buttonEl.style.display =\n",
              "        google.colab.kernel.accessAllowed ? 'block' : 'none';\n",
              "\n",
              "      async function convertToInteractive(key) {\n",
              "        const element = document.querySelector('#df-1db6e00a-56b0-4d68-8bf3-45294a243351');\n",
              "        const dataTable =\n",
              "          await google.colab.kernel.invokeFunction('convertToInteractive',\n",
              "                                                    [key], {});\n",
              "        if (!dataTable) return;\n",
              "\n",
              "        const docLinkHtml = 'Like what you see? Visit the ' +\n",
              "          '<a target=\"_blank\" href=https://colab.research.google.com/notebooks/data_table.ipynb>data table notebook</a>'\n",
              "          + ' to learn more about interactive tables.';\n",
              "        element.innerHTML = '';\n",
              "        dataTable['output_type'] = 'display_data';\n",
              "        await google.colab.output.renderOutput(dataTable, element);\n",
              "        const docLink = document.createElement('div');\n",
              "        docLink.innerHTML = docLinkHtml;\n",
              "        element.appendChild(docLink);\n",
              "      }\n",
              "    </script>\n",
              "  </div>\n",
              "\n",
              "\n",
              "<div id=\"df-2ac11d84-a448-438b-a03b-09423a92ed36\">\n",
              "  <button class=\"colab-df-quickchart\" onclick=\"quickchart('df-2ac11d84-a448-438b-a03b-09423a92ed36')\"\n",
              "            title=\"Suggest charts\"\n",
              "            style=\"display:none;\">\n",
              "\n",
              "<svg xmlns=\"http://www.w3.org/2000/svg\" height=\"24px\"viewBox=\"0 0 24 24\"\n",
              "     width=\"24px\">\n",
              "    <g>\n",
              "        <path d=\"M19 3H5c-1.1 0-2 .9-2 2v14c0 1.1.9 2 2 2h14c1.1 0 2-.9 2-2V5c0-1.1-.9-2-2-2zM9 17H7v-7h2v7zm4 0h-2V7h2v10zm4 0h-2v-4h2v4z\"/>\n",
              "    </g>\n",
              "</svg>\n",
              "  </button>\n",
              "\n",
              "<style>\n",
              "  .colab-df-quickchart {\n",
              "      --bg-color: #E8F0FE;\n",
              "      --fill-color: #1967D2;\n",
              "      --hover-bg-color: #E2EBFA;\n",
              "      --hover-fill-color: #174EA6;\n",
              "      --disabled-fill-color: #AAA;\n",
              "      --disabled-bg-color: #DDD;\n",
              "  }\n",
              "\n",
              "  [theme=dark] .colab-df-quickchart {\n",
              "      --bg-color: #3B4455;\n",
              "      --fill-color: #D2E3FC;\n",
              "      --hover-bg-color: #434B5C;\n",
              "      --hover-fill-color: #FFFFFF;\n",
              "      --disabled-bg-color: #3B4455;\n",
              "      --disabled-fill-color: #666;\n",
              "  }\n",
              "\n",
              "  .colab-df-quickchart {\n",
              "    background-color: var(--bg-color);\n",
              "    border: none;\n",
              "    border-radius: 50%;\n",
              "    cursor: pointer;\n",
              "    display: none;\n",
              "    fill: var(--fill-color);\n",
              "    height: 32px;\n",
              "    padding: 0;\n",
              "    width: 32px;\n",
              "  }\n",
              "\n",
              "  .colab-df-quickchart:hover {\n",
              "    background-color: var(--hover-bg-color);\n",
              "    box-shadow: 0 1px 2px rgba(60, 64, 67, 0.3), 0 1px 3px 1px rgba(60, 64, 67, 0.15);\n",
              "    fill: var(--button-hover-fill-color);\n",
              "  }\n",
              "\n",
              "  .colab-df-quickchart-complete:disabled,\n",
              "  .colab-df-quickchart-complete:disabled:hover {\n",
              "    background-color: var(--disabled-bg-color);\n",
              "    fill: var(--disabled-fill-color);\n",
              "    box-shadow: none;\n",
              "  }\n",
              "\n",
              "  .colab-df-spinner {\n",
              "    border: 2px solid var(--fill-color);\n",
              "    border-color: transparent;\n",
              "    border-bottom-color: var(--fill-color);\n",
              "    animation:\n",
              "      spin 1s steps(1) infinite;\n",
              "  }\n",
              "\n",
              "  @keyframes spin {\n",
              "    0% {\n",
              "      border-color: transparent;\n",
              "      border-bottom-color: var(--fill-color);\n",
              "      border-left-color: var(--fill-color);\n",
              "    }\n",
              "    20% {\n",
              "      border-color: transparent;\n",
              "      border-left-color: var(--fill-color);\n",
              "      border-top-color: var(--fill-color);\n",
              "    }\n",
              "    30% {\n",
              "      border-color: transparent;\n",
              "      border-left-color: var(--fill-color);\n",
              "      border-top-color: var(--fill-color);\n",
              "      border-right-color: var(--fill-color);\n",
              "    }\n",
              "    40% {\n",
              "      border-color: transparent;\n",
              "      border-right-color: var(--fill-color);\n",
              "      border-top-color: var(--fill-color);\n",
              "    }\n",
              "    60% {\n",
              "      border-color: transparent;\n",
              "      border-right-color: var(--fill-color);\n",
              "    }\n",
              "    80% {\n",
              "      border-color: transparent;\n",
              "      border-right-color: var(--fill-color);\n",
              "      border-bottom-color: var(--fill-color);\n",
              "    }\n",
              "    90% {\n",
              "      border-color: transparent;\n",
              "      border-bottom-color: var(--fill-color);\n",
              "    }\n",
              "  }\n",
              "</style>\n",
              "\n",
              "  <script>\n",
              "    async function quickchart(key) {\n",
              "      const quickchartButtonEl =\n",
              "        document.querySelector('#' + key + ' button');\n",
              "      quickchartButtonEl.disabled = true;  // To prevent multiple clicks.\n",
              "      quickchartButtonEl.classList.add('colab-df-spinner');\n",
              "      try {\n",
              "        const charts = await google.colab.kernel.invokeFunction(\n",
              "            'suggestCharts', [key], {});\n",
              "      } catch (error) {\n",
              "        console.error('Error during call to suggestCharts:', error);\n",
              "      }\n",
              "      quickchartButtonEl.classList.remove('colab-df-spinner');\n",
              "      quickchartButtonEl.classList.add('colab-df-quickchart-complete');\n",
              "    }\n",
              "    (() => {\n",
              "      let quickchartButtonEl =\n",
              "        document.querySelector('#df-2ac11d84-a448-438b-a03b-09423a92ed36 button');\n",
              "      quickchartButtonEl.style.display =\n",
              "        google.colab.kernel.accessAllowed ? 'block' : 'none';\n",
              "    })();\n",
              "  </script>\n",
              "</div>\n",
              "    </div>\n",
              "  </div>\n"
            ],
            "application/vnd.google.colaboratory.intrinsic+json": {
              "type": "dataframe",
              "variable_name": "dataframe1"
            }
          },
          "metadata": {},
          "execution_count": 49
        }
      ]
    },
    {
      "cell_type": "code",
      "source": [
        "dataframe1.info()"
      ],
      "metadata": {
        "colab": {
          "base_uri": "https://localhost:8080/"
        },
        "id": "9V1sUdO-xjFb",
        "outputId": "926c4775-3700-4b42-b1c0-47c3fe9185a1"
      },
      "execution_count": 50,
      "outputs": [
        {
          "output_type": "stream",
          "name": "stdout",
          "text": [
            "<class 'pandas.core.frame.DataFrame'>\n",
            "RangeIndex: 61069 entries, 0 to 61068\n",
            "Data columns (total 40 columns):\n",
            " #   Column                Non-Null Count  Dtype  \n",
            "---  ------                --------------  -----  \n",
            " 0   Unnamed: 0            61069 non-null  int64  \n",
            " 1   cap-diameter          61069 non-null  float64\n",
            " 2   cap-shape_0           61069 non-null  int64  \n",
            " 3   cap-shape_1           61069 non-null  int64  \n",
            " 4   cap-shape_2           61069 non-null  int64  \n",
            " 5   cap-surface_0         61069 non-null  int64  \n",
            " 6   cap-surface_1         61069 non-null  int64  \n",
            " 7   cap-surface_2         61069 non-null  int64  \n",
            " 8   cap-surface_3         61069 non-null  int64  \n",
            " 9   cap-color_0           61069 non-null  int64  \n",
            " 10  cap-color_1           61069 non-null  int64  \n",
            " 11  cap-color_2           61069 non-null  int64  \n",
            " 12  cap-color_3           61069 non-null  int64  \n",
            " 13  does-bruise-or-bleed  61069 non-null  int64  \n",
            " 14  gill-attachment_0     61069 non-null  int64  \n",
            " 15  gill-attachment_1     61069 non-null  int64  \n",
            " 16  gill-attachment_2     61069 non-null  int64  \n",
            " 17  gill-color_0          61069 non-null  int64  \n",
            " 18  gill-color_1          61069 non-null  int64  \n",
            " 19  gill-color_2          61069 non-null  int64  \n",
            " 20  gill-color_3          61069 non-null  int64  \n",
            " 21  stem-height           61069 non-null  float64\n",
            " 22  stem-width            61069 non-null  float64\n",
            " 23  stem-color_0          61069 non-null  int64  \n",
            " 24  stem-color_1          61069 non-null  int64  \n",
            " 25  stem-color_2          61069 non-null  int64  \n",
            " 26  stem-color_3          61069 non-null  int64  \n",
            " 27  has-ring              61069 non-null  int64  \n",
            " 28  ring-type_0           61069 non-null  int64  \n",
            " 29  ring-type_1           61069 non-null  int64  \n",
            " 30  ring-type_2           61069 non-null  int64  \n",
            " 31  ring-type_3           61069 non-null  int64  \n",
            " 32  habitat_0             61069 non-null  int64  \n",
            " 33  habitat_1             61069 non-null  int64  \n",
            " 34  habitat_2             61069 non-null  int64  \n",
            " 35  habitat_3             61069 non-null  int64  \n",
            " 36  season_0              61069 non-null  int64  \n",
            " 37  season_1              61069 non-null  int64  \n",
            " 38  season_2              61069 non-null  int64  \n",
            " 39  class                 61069 non-null  int64  \n",
            "dtypes: float64(3), int64(37)\n",
            "memory usage: 18.6 MB\n"
          ]
        }
      ]
    },
    {
      "cell_type": "markdown",
      "source": [
        "### Normalization"
      ],
      "metadata": {
        "id": "9zGBnEM6Jpcb"
      }
    },
    {
      "cell_type": "code",
      "source": [
        "scaler = StandardScaler()"
      ],
      "metadata": {
        "id": "CaghPRYbz9mi"
      },
      "execution_count": 51,
      "outputs": []
    },
    {
      "cell_type": "code",
      "source": [
        "# find features that data type is float\n",
        "float_columns = dataframe1.select_dtypes(include=['float']).columns\n",
        "\n",
        "# normalize float features\n",
        "dataframe1[float_columns] = scaler.fit_transform(dataframe1[float_columns])"
      ],
      "metadata": {
        "id": "EOLym_cBxmwO"
      },
      "execution_count": 52,
      "outputs": []
    },
    {
      "cell_type": "code",
      "source": [
        "dataframe1[float_columns].head(5)"
      ],
      "metadata": {
        "colab": {
          "base_uri": "https://localhost:8080/",
          "height": 206
        },
        "id": "ZxJtdpJ_z-t3",
        "outputId": "27ee856c-7895-4e1f-bb4d-d0a4ca2c9a22"
      },
      "execution_count": 53,
      "outputs": [
        {
          "output_type": "execute_result",
          "data": {
            "text/plain": [
              "   cap-diameter  stem-height  stem-width\n",
              "0      1.619462     3.076705    0.492293\n",
              "1      1.873982     3.385311    0.601900\n",
              "2      1.393432     3.328931    0.557061\n",
              "3      1.412426     2.726555    0.381690\n",
              "4      1.501699     2.952075    0.503254"
            ],
            "text/html": [
              "\n",
              "  <div id=\"df-ffd5621b-762b-439d-b0f1-7e7359127b9e\" class=\"colab-df-container\">\n",
              "    <div>\n",
              "<style scoped>\n",
              "    .dataframe tbody tr th:only-of-type {\n",
              "        vertical-align: middle;\n",
              "    }\n",
              "\n",
              "    .dataframe tbody tr th {\n",
              "        vertical-align: top;\n",
              "    }\n",
              "\n",
              "    .dataframe thead th {\n",
              "        text-align: right;\n",
              "    }\n",
              "</style>\n",
              "<table border=\"1\" class=\"dataframe\">\n",
              "  <thead>\n",
              "    <tr style=\"text-align: right;\">\n",
              "      <th></th>\n",
              "      <th>cap-diameter</th>\n",
              "      <th>stem-height</th>\n",
              "      <th>stem-width</th>\n",
              "    </tr>\n",
              "  </thead>\n",
              "  <tbody>\n",
              "    <tr>\n",
              "      <th>0</th>\n",
              "      <td>1.619462</td>\n",
              "      <td>3.076705</td>\n",
              "      <td>0.492293</td>\n",
              "    </tr>\n",
              "    <tr>\n",
              "      <th>1</th>\n",
              "      <td>1.873982</td>\n",
              "      <td>3.385311</td>\n",
              "      <td>0.601900</td>\n",
              "    </tr>\n",
              "    <tr>\n",
              "      <th>2</th>\n",
              "      <td>1.393432</td>\n",
              "      <td>3.328931</td>\n",
              "      <td>0.557061</td>\n",
              "    </tr>\n",
              "    <tr>\n",
              "      <th>3</th>\n",
              "      <td>1.412426</td>\n",
              "      <td>2.726555</td>\n",
              "      <td>0.381690</td>\n",
              "    </tr>\n",
              "    <tr>\n",
              "      <th>4</th>\n",
              "      <td>1.501699</td>\n",
              "      <td>2.952075</td>\n",
              "      <td>0.503254</td>\n",
              "    </tr>\n",
              "  </tbody>\n",
              "</table>\n",
              "</div>\n",
              "    <div class=\"colab-df-buttons\">\n",
              "\n",
              "  <div class=\"colab-df-container\">\n",
              "    <button class=\"colab-df-convert\" onclick=\"convertToInteractive('df-ffd5621b-762b-439d-b0f1-7e7359127b9e')\"\n",
              "            title=\"Convert this dataframe to an interactive table.\"\n",
              "            style=\"display:none;\">\n",
              "\n",
              "  <svg xmlns=\"http://www.w3.org/2000/svg\" height=\"24px\" viewBox=\"0 -960 960 960\">\n",
              "    <path d=\"M120-120v-720h720v720H120Zm60-500h600v-160H180v160Zm220 220h160v-160H400v160Zm0 220h160v-160H400v160ZM180-400h160v-160H180v160Zm440 0h160v-160H620v160ZM180-180h160v-160H180v160Zm440 0h160v-160H620v160Z\"/>\n",
              "  </svg>\n",
              "    </button>\n",
              "\n",
              "  <style>\n",
              "    .colab-df-container {\n",
              "      display:flex;\n",
              "      gap: 12px;\n",
              "    }\n",
              "\n",
              "    .colab-df-convert {\n",
              "      background-color: #E8F0FE;\n",
              "      border: none;\n",
              "      border-radius: 50%;\n",
              "      cursor: pointer;\n",
              "      display: none;\n",
              "      fill: #1967D2;\n",
              "      height: 32px;\n",
              "      padding: 0 0 0 0;\n",
              "      width: 32px;\n",
              "    }\n",
              "\n",
              "    .colab-df-convert:hover {\n",
              "      background-color: #E2EBFA;\n",
              "      box-shadow: 0px 1px 2px rgba(60, 64, 67, 0.3), 0px 1px 3px 1px rgba(60, 64, 67, 0.15);\n",
              "      fill: #174EA6;\n",
              "    }\n",
              "\n",
              "    .colab-df-buttons div {\n",
              "      margin-bottom: 4px;\n",
              "    }\n",
              "\n",
              "    [theme=dark] .colab-df-convert {\n",
              "      background-color: #3B4455;\n",
              "      fill: #D2E3FC;\n",
              "    }\n",
              "\n",
              "    [theme=dark] .colab-df-convert:hover {\n",
              "      background-color: #434B5C;\n",
              "      box-shadow: 0px 1px 3px 1px rgba(0, 0, 0, 0.15);\n",
              "      filter: drop-shadow(0px 1px 2px rgba(0, 0, 0, 0.3));\n",
              "      fill: #FFFFFF;\n",
              "    }\n",
              "  </style>\n",
              "\n",
              "    <script>\n",
              "      const buttonEl =\n",
              "        document.querySelector('#df-ffd5621b-762b-439d-b0f1-7e7359127b9e button.colab-df-convert');\n",
              "      buttonEl.style.display =\n",
              "        google.colab.kernel.accessAllowed ? 'block' : 'none';\n",
              "\n",
              "      async function convertToInteractive(key) {\n",
              "        const element = document.querySelector('#df-ffd5621b-762b-439d-b0f1-7e7359127b9e');\n",
              "        const dataTable =\n",
              "          await google.colab.kernel.invokeFunction('convertToInteractive',\n",
              "                                                    [key], {});\n",
              "        if (!dataTable) return;\n",
              "\n",
              "        const docLinkHtml = 'Like what you see? Visit the ' +\n",
              "          '<a target=\"_blank\" href=https://colab.research.google.com/notebooks/data_table.ipynb>data table notebook</a>'\n",
              "          + ' to learn more about interactive tables.';\n",
              "        element.innerHTML = '';\n",
              "        dataTable['output_type'] = 'display_data';\n",
              "        await google.colab.output.renderOutput(dataTable, element);\n",
              "        const docLink = document.createElement('div');\n",
              "        docLink.innerHTML = docLinkHtml;\n",
              "        element.appendChild(docLink);\n",
              "      }\n",
              "    </script>\n",
              "  </div>\n",
              "\n",
              "\n",
              "<div id=\"df-a42c2b11-d4e2-48d0-a2fb-ebe8aee8d6f1\">\n",
              "  <button class=\"colab-df-quickchart\" onclick=\"quickchart('df-a42c2b11-d4e2-48d0-a2fb-ebe8aee8d6f1')\"\n",
              "            title=\"Suggest charts\"\n",
              "            style=\"display:none;\">\n",
              "\n",
              "<svg xmlns=\"http://www.w3.org/2000/svg\" height=\"24px\"viewBox=\"0 0 24 24\"\n",
              "     width=\"24px\">\n",
              "    <g>\n",
              "        <path d=\"M19 3H5c-1.1 0-2 .9-2 2v14c0 1.1.9 2 2 2h14c1.1 0 2-.9 2-2V5c0-1.1-.9-2-2-2zM9 17H7v-7h2v7zm4 0h-2V7h2v10zm4 0h-2v-4h2v4z\"/>\n",
              "    </g>\n",
              "</svg>\n",
              "  </button>\n",
              "\n",
              "<style>\n",
              "  .colab-df-quickchart {\n",
              "      --bg-color: #E8F0FE;\n",
              "      --fill-color: #1967D2;\n",
              "      --hover-bg-color: #E2EBFA;\n",
              "      --hover-fill-color: #174EA6;\n",
              "      --disabled-fill-color: #AAA;\n",
              "      --disabled-bg-color: #DDD;\n",
              "  }\n",
              "\n",
              "  [theme=dark] .colab-df-quickchart {\n",
              "      --bg-color: #3B4455;\n",
              "      --fill-color: #D2E3FC;\n",
              "      --hover-bg-color: #434B5C;\n",
              "      --hover-fill-color: #FFFFFF;\n",
              "      --disabled-bg-color: #3B4455;\n",
              "      --disabled-fill-color: #666;\n",
              "  }\n",
              "\n",
              "  .colab-df-quickchart {\n",
              "    background-color: var(--bg-color);\n",
              "    border: none;\n",
              "    border-radius: 50%;\n",
              "    cursor: pointer;\n",
              "    display: none;\n",
              "    fill: var(--fill-color);\n",
              "    height: 32px;\n",
              "    padding: 0;\n",
              "    width: 32px;\n",
              "  }\n",
              "\n",
              "  .colab-df-quickchart:hover {\n",
              "    background-color: var(--hover-bg-color);\n",
              "    box-shadow: 0 1px 2px rgba(60, 64, 67, 0.3), 0 1px 3px 1px rgba(60, 64, 67, 0.15);\n",
              "    fill: var(--button-hover-fill-color);\n",
              "  }\n",
              "\n",
              "  .colab-df-quickchart-complete:disabled,\n",
              "  .colab-df-quickchart-complete:disabled:hover {\n",
              "    background-color: var(--disabled-bg-color);\n",
              "    fill: var(--disabled-fill-color);\n",
              "    box-shadow: none;\n",
              "  }\n",
              "\n",
              "  .colab-df-spinner {\n",
              "    border: 2px solid var(--fill-color);\n",
              "    border-color: transparent;\n",
              "    border-bottom-color: var(--fill-color);\n",
              "    animation:\n",
              "      spin 1s steps(1) infinite;\n",
              "  }\n",
              "\n",
              "  @keyframes spin {\n",
              "    0% {\n",
              "      border-color: transparent;\n",
              "      border-bottom-color: var(--fill-color);\n",
              "      border-left-color: var(--fill-color);\n",
              "    }\n",
              "    20% {\n",
              "      border-color: transparent;\n",
              "      border-left-color: var(--fill-color);\n",
              "      border-top-color: var(--fill-color);\n",
              "    }\n",
              "    30% {\n",
              "      border-color: transparent;\n",
              "      border-left-color: var(--fill-color);\n",
              "      border-top-color: var(--fill-color);\n",
              "      border-right-color: var(--fill-color);\n",
              "    }\n",
              "    40% {\n",
              "      border-color: transparent;\n",
              "      border-right-color: var(--fill-color);\n",
              "      border-top-color: var(--fill-color);\n",
              "    }\n",
              "    60% {\n",
              "      border-color: transparent;\n",
              "      border-right-color: var(--fill-color);\n",
              "    }\n",
              "    80% {\n",
              "      border-color: transparent;\n",
              "      border-right-color: var(--fill-color);\n",
              "      border-bottom-color: var(--fill-color);\n",
              "    }\n",
              "    90% {\n",
              "      border-color: transparent;\n",
              "      border-bottom-color: var(--fill-color);\n",
              "    }\n",
              "  }\n",
              "</style>\n",
              "\n",
              "  <script>\n",
              "    async function quickchart(key) {\n",
              "      const quickchartButtonEl =\n",
              "        document.querySelector('#' + key + ' button');\n",
              "      quickchartButtonEl.disabled = true;  // To prevent multiple clicks.\n",
              "      quickchartButtonEl.classList.add('colab-df-spinner');\n",
              "      try {\n",
              "        const charts = await google.colab.kernel.invokeFunction(\n",
              "            'suggestCharts', [key], {});\n",
              "      } catch (error) {\n",
              "        console.error('Error during call to suggestCharts:', error);\n",
              "      }\n",
              "      quickchartButtonEl.classList.remove('colab-df-spinner');\n",
              "      quickchartButtonEl.classList.add('colab-df-quickchart-complete');\n",
              "    }\n",
              "    (() => {\n",
              "      let quickchartButtonEl =\n",
              "        document.querySelector('#df-a42c2b11-d4e2-48d0-a2fb-ebe8aee8d6f1 button');\n",
              "      quickchartButtonEl.style.display =\n",
              "        google.colab.kernel.accessAllowed ? 'block' : 'none';\n",
              "    })();\n",
              "  </script>\n",
              "</div>\n",
              "    </div>\n",
              "  </div>\n"
            ],
            "application/vnd.google.colaboratory.intrinsic+json": {
              "type": "dataframe",
              "summary": "{\n  \"name\": \"dataframe1[float_columns]\",\n  \"rows\": 5,\n  \"fields\": [\n    {\n      \"column\": \"cap-diameter\",\n      \"properties\": {\n        \"dtype\": \"number\",\n        \"std\": 0.1968769654455196,\n        \"min\": 1.393432408065387,\n        \"max\": 1.8739823083886251,\n        \"num_unique_values\": 5,\n        \"samples\": [\n          1.8739823083886251,\n          1.5016985911421639,\n          1.393432408065387\n        ],\n        \"semantic_type\": \"\",\n        \"description\": \"\"\n      }\n    },\n    {\n      \"column\": \"stem-height\",\n      \"properties\": {\n        \"dtype\": \"number\",\n        \"std\": 0.271805123380989,\n        \"min\": 2.7265551922403106,\n        \"max\": 3.3853109990391683,\n        \"num_unique_values\": 5,\n        \"samples\": [\n          3.3853109990391683,\n          2.9520751981714515,\n          3.328930997556384\n        ],\n        \"semantic_type\": \"\",\n        \"description\": \"\"\n      }\n    },\n    {\n      \"column\": \"stem-width\",\n      \"properties\": {\n        \"dtype\": \"number\",\n        \"std\": 0.0828322740046789,\n        \"min\": 0.3816897679497466,\n        \"max\": 0.6018998112405046,\n        \"num_unique_values\": 5,\n        \"samples\": [\n          0.6018998112405046,\n          0.5032536832505269,\n          0.5570606621541508\n        ],\n        \"semantic_type\": \"\",\n        \"description\": \"\"\n      }\n    }\n  ]\n}"
            }
          },
          "metadata": {},
          "execution_count": 53
        }
      ]
    },
    {
      "cell_type": "markdown",
      "source": [
        "### Imbalanced or not"
      ],
      "metadata": {
        "id": "eN5vTCpSJKZQ"
      }
    },
    {
      "cell_type": "code",
      "source": [
        "# count of each class values\n",
        "class_distribution = dataframe1['class'].value_counts()"
      ],
      "metadata": {
        "id": "2oUBn1V200YY"
      },
      "execution_count": 54,
      "outputs": []
    },
    {
      "cell_type": "code",
      "source": [
        "# check the dataset is imbalanced or not\n",
        "imbalance_ratio = class_distribution.max() / class_distribution.min()"
      ],
      "metadata": {
        "id": "GGoK7gr1Hatn"
      },
      "execution_count": 55,
      "outputs": []
    },
    {
      "cell_type": "code",
      "source": [
        "imbalance_ratio"
      ],
      "metadata": {
        "colab": {
          "base_uri": "https://localhost:8080/"
        },
        "id": "5QjNhnn7JbTG",
        "outputId": "b3417307-6b06-4fc9-aa55-947a345fcc82"
      },
      "execution_count": 56,
      "outputs": [
        {
          "output_type": "execute_result",
          "data": {
            "text/plain": [
              "1.2467532467532467"
            ]
          },
          "metadata": {},
          "execution_count": 56
        }
      ]
    },
    {
      "cell_type": "code",
      "source": [
        "# split class from other\n",
        "X = dataframe1.drop('class', axis=1)\n",
        "y = dataframe1['class']\n",
        "\n",
        "# fit SMOTE\n",
        "smote = SMOTE()\n",
        "X_resampled, y_resampled = smote.fit_resample(X, y)"
      ],
      "metadata": {
        "id": "QY-HGcHrS_Qg"
      },
      "execution_count": 57,
      "outputs": []
    },
    {
      "cell_type": "code",
      "source": [
        "# check new class distribution\n",
        "pd.Series(y_resampled).value_counts()"
      ],
      "metadata": {
        "colab": {
          "base_uri": "https://localhost:8080/"
        },
        "id": "qYcaM15DZC8-",
        "outputId": "e414128d-e53f-4cbd-9ec5-bd98fa5e6737"
      },
      "execution_count": 58,
      "outputs": [
        {
          "output_type": "execute_result",
          "data": {
            "text/plain": [
              "class\n",
              "0    33888\n",
              "1    33888\n",
              "Name: count, dtype: int64"
            ]
          },
          "metadata": {},
          "execution_count": 58
        }
      ]
    },
    {
      "cell_type": "code",
      "source": [
        "# check the dataset is imbalanced or not\n",
        "new_imbalance_ratio = pd.Series(y_resampled).value_counts()[0] / pd.Series(y_resampled).value_counts()[1]"
      ],
      "metadata": {
        "id": "P6W85fwjXTFx"
      },
      "execution_count": 59,
      "outputs": []
    },
    {
      "cell_type": "code",
      "source": [
        "new_imbalance_ratio"
      ],
      "metadata": {
        "colab": {
          "base_uri": "https://localhost:8080/"
        },
        "id": "oQUWOuD0Yy2h",
        "outputId": "c18362dc-6918-4236-96a6-b424bbfdc08e"
      },
      "execution_count": 60,
      "outputs": [
        {
          "output_type": "execute_result",
          "data": {
            "text/plain": [
              "1.0"
            ]
          },
          "metadata": {},
          "execution_count": 60
        }
      ]
    },
    {
      "cell_type": "markdown",
      "source": [
        "now dataset is not imbalanced"
      ],
      "metadata": {
        "id": "Lnphem1UJd4W"
      }
    },
    {
      "cell_type": "markdown",
      "source": [
        "# Part 1-2"
      ],
      "metadata": {
        "id": "Cgnna9SAMbj0"
      }
    },
    {
      "cell_type": "markdown",
      "source": [
        "### Split dataset to training and test set"
      ],
      "metadata": {
        "id": "dx9aPYPLPa9w"
      }
    },
    {
      "cell_type": "code",
      "source": [
        "# split dataset to training and test set\n",
        "X_train, X_test, y_train, y_test = train_test_split(X_resampled, y_resampled, test_size=0.20, random_state=42)"
      ],
      "metadata": {
        "id": "GT_Cc2rKNlM0"
      },
      "execution_count": 61,
      "outputs": []
    },
    {
      "cell_type": "code",
      "source": [
        "# check splitting\n",
        "X_train.shape"
      ],
      "metadata": {
        "colab": {
          "base_uri": "https://localhost:8080/"
        },
        "id": "yEoFvnIsNpYM",
        "outputId": "87cbe420-9ddc-4959-b60d-e308ee32be05"
      },
      "execution_count": 62,
      "outputs": [
        {
          "output_type": "execute_result",
          "data": {
            "text/plain": [
              "(54220, 39)"
            ]
          },
          "metadata": {},
          "execution_count": 62
        }
      ]
    },
    {
      "cell_type": "code",
      "source": [
        "y_test.shape"
      ],
      "metadata": {
        "colab": {
          "base_uri": "https://localhost:8080/"
        },
        "id": "-spa44_aZPd6",
        "outputId": "c1856e6b-ce07-4919-e93c-cda18aa2b8f5"
      },
      "execution_count": 63,
      "outputs": [
        {
          "output_type": "execute_result",
          "data": {
            "text/plain": [
              "(13556,)"
            ]
          },
          "metadata": {},
          "execution_count": 63
        }
      ]
    },
    {
      "cell_type": "markdown",
      "source": [
        "### Decision tree model"
      ],
      "metadata": {
        "id": "gp0adkz7clKG"
      }
    },
    {
      "cell_type": "code",
      "source": [
        "# set decision tree classifier\n",
        "dtree = DecisionTreeClassifier()"
      ],
      "metadata": {
        "id": "gKQMvSJUN09H"
      },
      "execution_count": 64,
      "outputs": []
    },
    {
      "cell_type": "code",
      "source": [
        "# start time of training\n",
        "start_train_dt = time.time()\n",
        "\n",
        "# train the model\n",
        "dtree.fit(X_train, y_train)\n",
        "\n",
        "# end time of training\n",
        "end_train_dt = time.time()\n",
        "training_time_dt = end_train_dt - start_train_dt"
      ],
      "metadata": {
        "id": "EkkmIJ3vZoCM"
      },
      "execution_count": 65,
      "outputs": []
    },
    {
      "cell_type": "code",
      "source": [
        "training_time_dt"
      ],
      "metadata": {
        "colab": {
          "base_uri": "https://localhost:8080/"
        },
        "id": "65z7EEweZ2B9",
        "outputId": "338034a3-9965-42f0-a416-279b9f97c30d"
      },
      "execution_count": 66,
      "outputs": [
        {
          "output_type": "execute_result",
          "data": {
            "text/plain": [
              "0.7750282287597656"
            ]
          },
          "metadata": {},
          "execution_count": 66
        }
      ]
    },
    {
      "cell_type": "code",
      "source": [
        "# start time of prediction\n",
        "start_predict_dt = time.time()\n",
        "\n",
        "# predict based on dt model\n",
        "predictions_dt = dtree.predict(X_test)\n",
        "\n",
        "# end time of prediction\n",
        "end_predict_dt = time.time()\n",
        "prediction_time_dt = end_predict_dt - start_predict_dt"
      ],
      "metadata": {
        "id": "vEjOPquUPkRP"
      },
      "execution_count": 67,
      "outputs": []
    },
    {
      "cell_type": "code",
      "source": [
        "prediction_time_dt"
      ],
      "metadata": {
        "colab": {
          "base_uri": "https://localhost:8080/"
        },
        "id": "DOAsvLOLaLgb",
        "outputId": "044b3568-43fa-4d36-848f-0e936a441fa0"
      },
      "execution_count": 68,
      "outputs": [
        {
          "output_type": "execute_result",
          "data": {
            "text/plain": [
              "0.01676034927368164"
            ]
          },
          "metadata": {},
          "execution_count": 68
        }
      ]
    },
    {
      "cell_type": "code",
      "source": [
        "# calculate the accuracy\n",
        "accuracy = accuracy_score(y_test, predictions_dt)\n",
        "print(\"DT accuracy: {:.2f}%\".format(accuracy * 100))"
      ],
      "metadata": {
        "colab": {
          "base_uri": "https://localhost:8080/"
        },
        "id": "5Y17IKvyRO2R",
        "outputId": "a5fc1582-32b2-48e7-ab2b-184773a56a79"
      },
      "execution_count": 69,
      "outputs": [
        {
          "output_type": "stream",
          "name": "stdout",
          "text": [
            "DT accuracy: 99.77%\n"
          ]
        }
      ]
    },
    {
      "cell_type": "markdown",
      "source": [
        "### KNN model"
      ],
      "metadata": {
        "id": "-tl8eN2biLOX"
      }
    },
    {
      "cell_type": "code",
      "source": [
        "# set knn classifier with k=9\n",
        "knn = KNeighborsClassifier(n_neighbors=9)"
      ],
      "metadata": {
        "id": "4NSVWxCGiJXC"
      },
      "execution_count": 70,
      "outputs": []
    },
    {
      "cell_type": "code",
      "source": [
        "# start time of training\n",
        "start_train_knn = time.time()\n",
        "\n",
        "# train the model\n",
        "knn.fit(X_train, y_train)\n",
        "\n",
        "# end time of training\n",
        "end_train_knn = time.time()\n",
        "\n",
        "training_time_knn = end_train_knn - start_train_knn"
      ],
      "metadata": {
        "id": "HXtlYlrljc5Q"
      },
      "execution_count": 71,
      "outputs": []
    },
    {
      "cell_type": "code",
      "source": [
        "training_time_knn"
      ],
      "metadata": {
        "colab": {
          "base_uri": "https://localhost:8080/"
        },
        "id": "prB_df6pjvxi",
        "outputId": "d9091cab-2d17-4536-b611-b90dd22e118d"
      },
      "execution_count": 72,
      "outputs": [
        {
          "output_type": "execute_result",
          "data": {
            "text/plain": [
              "0.049565792083740234"
            ]
          },
          "metadata": {},
          "execution_count": 72
        }
      ]
    },
    {
      "cell_type": "code",
      "source": [
        "# start time of prediction\n",
        "start_predict_knn = time.time()\n",
        "\n",
        "# predict based on knn model\n",
        "predictions_knn = knn.predict(X_test)\n",
        "\n",
        "# end time of prediction\n",
        "end_predict_knn = time.time()\n",
        "predection_time_knn = end_predict_knn - start_predict_knn"
      ],
      "metadata": {
        "id": "da_QyApqiY0M"
      },
      "execution_count": 73,
      "outputs": []
    },
    {
      "cell_type": "code",
      "source": [
        "predection_time_knn"
      ],
      "metadata": {
        "colab": {
          "base_uri": "https://localhost:8080/"
        },
        "id": "Jh3AdJHhkHhV",
        "outputId": "7570a706-5dd0-4ceb-c934-71122bcfee19"
      },
      "execution_count": 74,
      "outputs": [
        {
          "output_type": "execute_result",
          "data": {
            "text/plain": [
              "11.642415046691895"
            ]
          },
          "metadata": {},
          "execution_count": 74
        }
      ]
    },
    {
      "cell_type": "code",
      "source": [
        "# calculate accuracy\n",
        "knn_accuracy = accuracy_score(y_test, predictions_knn)\n",
        "print(\"KNN accuracy: {:.2f}%\".format(knn_accuracy * 100))"
      ],
      "metadata": {
        "colab": {
          "base_uri": "https://localhost:8080/"
        },
        "id": "3pAc8Uvwia2X",
        "outputId": "a8281ba5-ed6d-4234-f9e0-c14d2626ce05"
      },
      "execution_count": 75,
      "outputs": [
        {
          "output_type": "stream",
          "name": "stdout",
          "text": [
            "KNN accuracy: 99.95%\n"
          ]
        }
      ]
    },
    {
      "cell_type": "markdown",
      "source": [
        "### Evaluation"
      ],
      "metadata": {
        "id": "omhUmnv8lkPj"
      }
    },
    {
      "cell_type": "code",
      "source": [
        "# calculate metrics for dt\n",
        "accuracy_dt = accuracy_score(y_test, predictions_dt)\n",
        "precision_dt = precision_score(y_test, predictions_dt, average='macro')\n",
        "recall_dt = recall_score(y_test, predictions_dt, average='macro')\n",
        "f1_dt = f1_score(y_test, predictions_dt, average='macro')\n",
        "\n",
        "# calculate metrics for knn\n",
        "accuracy_knn = accuracy_score(y_test, predictions_knn)\n",
        "precision_knn = precision_score(y_test, predictions_knn, average='macro')\n",
        "recall_knn = recall_score(y_test, predictions_knn, average='macro')\n",
        "f1_knn = f1_score(y_test, predictions_knn, average='macro')"
      ],
      "metadata": {
        "id": "yFVK0Z7qjQ6P"
      },
      "execution_count": 76,
      "outputs": []
    },
    {
      "cell_type": "code",
      "source": [
        "# set a list of metrics for plotting\n",
        "metrics = ['Accuracy', 'Precision', 'Recall', 'F1 Score']\n",
        "dt_scores = [accuracy_dt, precision_dt, recall_dt, f1_dt]\n",
        "knn_scores = [accuracy_knn, precision_knn, recall_knn, f1_knn]"
      ],
      "metadata": {
        "id": "UbozMFuBzAuM"
      },
      "execution_count": 77,
      "outputs": []
    },
    {
      "cell_type": "code",
      "source": [
        "# set plot parameters\n",
        "pos = list(range(len(dt_scores)))\n",
        "width = 0.25\n",
        "\n",
        "# plot\n",
        "fig, ax = plt.subplots(figsize=(10, 5))\n",
        "plt.bar(pos, dt_scores, width, alpha=0.5, color='c', label='Decision tree')\n",
        "plt.bar([p + width for p in pos], knn_scores, width, alpha=0.5, color='k', label='KNN')\n",
        "\n",
        "# better plot\n",
        "ax.set_ylabel('Score')\n",
        "ax.set_title('Model Comparison')\n",
        "ax.set_xticks([p + 0.5 * width for p in pos])\n",
        "ax.set_xticklabels(metrics)\n",
        "plt.legend(['Decision Tree', 'KNN'], loc='upper left')\n",
        "plt.grid()\n",
        "\n",
        "plt.show()"
      ],
      "metadata": {
        "colab": {
          "base_uri": "https://localhost:8080/",
          "height": 468
        },
        "id": "GLNbN3844qK-",
        "outputId": "2f779bd4-1a9b-4d08-f3c3-c308e113cfd9"
      },
      "execution_count": 78,
      "outputs": [
        {
          "output_type": "display_data",
          "data": {
            "text/plain": [
              "<Figure size 1000x500 with 1 Axes>"
            ],
            "image/png": "[encoded data removed]"
          },
          "metadata": {}
        }
      ]
    },
    {
      "cell_type": "code",
      "source": [
        "# create a dictionary\n",
        "metrics_data = {\n",
        "    'model': ['Decision tree', 'KNN'],\n",
        "    'accuracy': [accuracy_dt, accuracy_knn],\n",
        "    'precision': [precision_dt, precision_knn],\n",
        "    'recall': [recall_dt, recall_knn],\n",
        "    'f1 score': [f1_dt, f1_knn]\n",
        "}\n",
        "\n",
        "# create the dataframe\n",
        "metrics_df = pd.DataFrame(metrics_data)"
      ],
      "metadata": {
        "id": "9V8DEBzWzFKB"
      },
      "execution_count": 79,
      "outputs": []
    },
    {
      "cell_type": "code",
      "source": [
        "metrics_df"
      ],
      "metadata": {
        "colab": {
          "base_uri": "https://localhost:8080/",
          "height": 112
        },
        "id": "bFp1v4lC3X0Y",
        "outputId": "9f6369e1-4a75-4729-c567-6712e6b601cf"
      },
      "execution_count": 80,
      "outputs": [
        {
          "output_type": "execute_result",
          "data": {
            "text/plain": [
              "           model  accuracy  precision    recall  f1 score\n",
              "0  Decision tree  0.997713   0.997712  0.997715  0.997713\n",
              "1            KNN  0.999484   0.999486  0.999482  0.999484"
            ],
            "text/html": [
              "\n",
              "  <div id=\"df-bb0d4ec3-c7c8-4ced-8d8f-9bc855c6fdb5\" class=\"colab-df-container\">\n",
              "    <div>\n",
              "<style scoped>\n",
              "    .dataframe tbody tr th:only-of-type {\n",
              "        vertical-align: middle;\n",
              "    }\n",
              "\n",
              "    .dataframe tbody tr th {\n",
              "        vertical-align: top;\n",
              "    }\n",
              "\n",
              "    .dataframe thead th {\n",
              "        text-align: right;\n",
              "    }\n",
              "</style>\n",
              "<table border=\"1\" class=\"dataframe\">\n",
              "  <thead>\n",
              "    <tr style=\"text-align: right;\">\n",
              "      <th></th>\n",
              "      <th>model</th>\n",
              "      <th>accuracy</th>\n",
              "      <th>precision</th>\n",
              "      <th>recall</th>\n",
              "      <th>f1 score</th>\n",
              "    </tr>\n",
              "  </thead>\n",
              "  <tbody>\n",
              "    <tr>\n",
              "      <th>0</th>\n",
              "      <td>Decision tree</td>\n",
              "      <td>0.997713</td>\n",
              "      <td>0.997712</td>\n",
              "      <td>0.997715</td>\n",
              "      <td>0.997713</td>\n",
              "    </tr>\n",
              "    <tr>\n",
              "      <th>1</th>\n",
              "      <td>KNN</td>\n",
              "      <td>0.999484</td>\n",
              "      <td>0.999486</td>\n",
              "      <td>0.999482</td>\n",
              "      <td>0.999484</td>\n",
              "    </tr>\n",
              "  </tbody>\n",
              "</table>\n",
              "</div>\n",
              "    <div class=\"colab-df-buttons\">\n",
              "\n",
              "  <div class=\"colab-df-container\">\n",
              "    <button class=\"colab-df-convert\" onclick=\"convertToInteractive('df-bb0d4ec3-c7c8-4ced-8d8f-9bc855c6fdb5')\"\n",
              "            title=\"Convert this dataframe to an interactive table.\"\n",
              "            style=\"display:none;\">\n",
              "\n",
              "  <svg xmlns=\"http://www.w3.org/2000/svg\" height=\"24px\" viewBox=\"0 -960 960 960\">\n",
              "    <path d=\"M120-120v-720h720v720H120Zm60-500h600v-160H180v160Zm220 220h160v-160H400v160Zm0 220h160v-160H400v160ZM180-400h160v-160H180v160Zm440 0h160v-160H620v160ZM180-180h160v-160H180v160Zm440 0h160v-160H620v160Z\"/>\n",
              "  </svg>\n",
              "    </button>\n",
              "\n",
              "  <style>\n",
              "    .colab-df-container {\n",
              "      display:flex;\n",
              "      gap: 12px;\n",
              "    }\n",
              "\n",
              "    .colab-df-convert {\n",
              "      background-color: #E8F0FE;\n",
              "      border: none;\n",
              "      border-radius: 50%;\n",
              "      cursor: pointer;\n",
              "      display: none;\n",
              "      fill: #1967D2;\n",
              "      height: 32px;\n",
              "      padding: 0 0 0 0;\n",
              "      width: 32px;\n",
              "    }\n",
              "\n",
              "    .colab-df-convert:hover {\n",
              "      background-color: #E2EBFA;\n",
              "      box-shadow: 0px 1px 2px rgba(60, 64, 67, 0.3), 0px 1px 3px 1px rgba(60, 64, 67, 0.15);\n",
              "      fill: #174EA6;\n",
              "    }\n",
              "\n",
              "    .colab-df-buttons div {\n",
              "      margin-bottom: 4px;\n",
              "    }\n",
              "\n",
              "    [theme=dark] .colab-df-convert {\n",
              "      background-color: #3B4455;\n",
              "      fill: #D2E3FC;\n",
              "    }\n",
              "\n",
              "    [theme=dark] .colab-df-convert:hover {\n",
              "      background-color: #434B5C;\n",
              "      box-shadow: 0px 1px 3px 1px rgba(0, 0, 0, 0.15);\n",
              "      filter: drop-shadow(0px 1px 2px rgba(0, 0, 0, 0.3));\n",
              "      fill: #FFFFFF;\n",
              "    }\n",
              "  </style>\n",
              "\n",
              "    <script>\n",
              "      const buttonEl =\n",
              "        document.querySelector('#df-bb0d4ec3-c7c8-4ced-8d8f-9bc855c6fdb5 button.colab-df-convert');\n",
              "      buttonEl.style.display =\n",
              "        google.colab.kernel.accessAllowed ? 'block' : 'none';\n",
              "\n",
              "      async function convertToInteractive(key) {\n",
              "        const element = document.querySelector('#df-bb0d4ec3-c7c8-4ced-8d8f-9bc855c6fdb5');\n",
              "        const dataTable =\n",
              "          await google.colab.kernel.invokeFunction('convertToInteractive',\n",
              "                                                    [key], {});\n",
              "        if (!dataTable) return;\n",
              "\n",
              "        const docLinkHtml = 'Like what you see? Visit the ' +\n",
              "          '<a target=\"_blank\" href=https://colab.research.google.com/notebooks/data_table.ipynb>data table notebook</a>'\n",
              "          + ' to learn more about interactive tables.';\n",
              "        element.innerHTML = '';\n",
              "        dataTable['output_type'] = 'display_data';\n",
              "        await google.colab.output.renderOutput(dataTable, element);\n",
              "        const docLink = document.createElement('div');\n",
              "        docLink.innerHTML = docLinkHtml;\n",
              "        element.appendChild(docLink);\n",
              "      }\n",
              "    </script>\n",
              "  </div>\n",
              "\n",
              "\n",
              "<div id=\"df-24105d0d-2159-4da8-a9a9-8cf7b135b564\">\n",
              "  <button class=\"colab-df-quickchart\" onclick=\"quickchart('df-24105d0d-2159-4da8-a9a9-8cf7b135b564')\"\n",
              "            title=\"Suggest charts\"\n",
              "            style=\"display:none;\">\n",
              "\n",
              "<svg xmlns=\"http://www.w3.org/2000/svg\" height=\"24px\"viewBox=\"0 0 24 24\"\n",
              "     width=\"24px\">\n",
              "    <g>\n",
              "        <path d=\"M19 3H5c-1.1 0-2 .9-2 2v14c0 1.1.9 2 2 2h14c1.1 0 2-.9 2-2V5c0-1.1-.9-2-2-2zM9 17H7v-7h2v7zm4 0h-2V7h2v10zm4 0h-2v-4h2v4z\"/>\n",
              "    </g>\n",
              "</svg>\n",
              "  </button>\n",
              "\n",
              "<style>\n",
              "  .colab-df-quickchart {\n",
              "      --bg-color: #E8F0FE;\n",
              "      --fill-color: #1967D2;\n",
              "      --hover-bg-color: #E2EBFA;\n",
              "      --hover-fill-color: #174EA6;\n",
              "      --disabled-fill-color: #AAA;\n",
              "      --disabled-bg-color: #DDD;\n",
              "  }\n",
              "\n",
              "  [theme=dark] .colab-df-quickchart {\n",
              "      --bg-color: #3B4455;\n",
              "      --fill-color: #D2E3FC;\n",
              "      --hover-bg-color: #434B5C;\n",
              "      --hover-fill-color: #FFFFFF;\n",
              "      --disabled-bg-color: #3B4455;\n",
              "      --disabled-fill-color: #666;\n",
              "  }\n",
              "\n",
              "  .colab-df-quickchart {\n",
              "    background-color: var(--bg-color);\n",
              "    border: none;\n",
              "    border-radius: 50%;\n",
              "    cursor: pointer;\n",
              "    display: none;\n",
              "    fill: var(--fill-color);\n",
              "    height: 32px;\n",
              "    padding: 0;\n",
              "    width: 32px;\n",
              "  }\n",
              "\n",
              "  .colab-df-quickchart:hover {\n",
              "    background-color: var(--hover-bg-color);\n",
              "    box-shadow: 0 1px 2px rgba(60, 64, 67, 0.3), 0 1px 3px 1px rgba(60, 64, 67, 0.15);\n",
              "    fill: var(--button-hover-fill-color);\n",
              "  }\n",
              "\n",
              "  .colab-df-quickchart-complete:disabled,\n",
              "  .colab-df-quickchart-complete:disabled:hover {\n",
              "    background-color: var(--disabled-bg-color);\n",
              "    fill: var(--disabled-fill-color);\n",
              "    box-shadow: none;\n",
              "  }\n",
              "\n",
              "  .colab-df-spinner {\n",
              "    border: 2px solid var(--fill-color);\n",
              "    border-color: transparent;\n",
              "    border-bottom-color: var(--fill-color);\n",
              "    animation:\n",
              "      spin 1s steps(1) infinite;\n",
              "  }\n",
              "\n",
              "  @keyframes spin {\n",
              "    0% {\n",
              "      border-color: transparent;\n",
              "      border-bottom-color: var(--fill-color);\n",
              "      border-left-color: var(--fill-color);\n",
              "    }\n",
              "    20% {\n",
              "      border-color: transparent;\n",
              "      border-left-color: var(--fill-color);\n",
              "      border-top-color: var(--fill-color);\n",
              "    }\n",
              "    30% {\n",
              "      border-color: transparent;\n",
              "      border-left-color: var(--fill-color);\n",
              "      border-top-color: var(--fill-color);\n",
              "      border-right-color: var(--fill-color);\n",
              "    }\n",
              "    40% {\n",
              "      border-color: transparent;\n",
              "      border-right-color: var(--fill-color);\n",
              "      border-top-color: var(--fill-color);\n",
              "    }\n",
              "    60% {\n",
              "      border-color: transparent;\n",
              "      border-right-color: var(--fill-color);\n",
              "    }\n",
              "    80% {\n",
              "      border-color: transparent;\n",
              "      border-right-color: var(--fill-color);\n",
              "      border-bottom-color: var(--fill-color);\n",
              "    }\n",
              "    90% {\n",
              "      border-color: transparent;\n",
              "      border-bottom-color: var(--fill-color);\n",
              "    }\n",
              "  }\n",
              "</style>\n",
              "\n",
              "  <script>\n",
              "    async function quickchart(key) {\n",
              "      const quickchartButtonEl =\n",
              "        document.querySelector('#' + key + ' button');\n",
              "      quickchartButtonEl.disabled = true;  // To prevent multiple clicks.\n",
              "      quickchartButtonEl.classList.add('colab-df-spinner');\n",
              "      try {\n",
              "        const charts = await google.colab.kernel.invokeFunction(\n",
              "            'suggestCharts', [key], {});\n",
              "      } catch (error) {\n",
              "        console.error('Error during call to suggestCharts:', error);\n",
              "      }\n",
              "      quickchartButtonEl.classList.remove('colab-df-spinner');\n",
              "      quickchartButtonEl.classList.add('colab-df-quickchart-complete');\n",
              "    }\n",
              "    (() => {\n",
              "      let quickchartButtonEl =\n",
              "        document.querySelector('#df-24105d0d-2159-4da8-a9a9-8cf7b135b564 button');\n",
              "      quickchartButtonEl.style.display =\n",
              "        google.colab.kernel.accessAllowed ? 'block' : 'none';\n",
              "    })();\n",
              "  </script>\n",
              "</div>\n",
              "    </div>\n",
              "  </div>\n"
            ],
            "application/vnd.google.colaboratory.intrinsic+json": {
              "type": "dataframe",
              "variable_name": "metrics_df",
              "summary": "{\n  \"name\": \"metrics_df\",\n  \"rows\": 2,\n  \"fields\": [\n    {\n      \"column\": \"model\",\n      \"properties\": {\n        \"dtype\": \"string\",\n        \"num_unique_values\": 2,\n        \"samples\": [\n          \"KNN\",\n          \"Decision tree\"\n        ],\n        \"semantic_type\": \"\",\n        \"description\": \"\"\n      }\n    },\n    {\n      \"column\": \"accuracy\",\n      \"properties\": {\n        \"dtype\": \"number\",\n        \"std\": 0.0012518857147002893,\n        \"min\": 0.9977131897314843,\n        \"max\": 0.9994836234877545,\n        \"num_unique_values\": 2,\n        \"samples\": [\n          0.9994836234877545,\n          0.9977131897314843\n        ],\n        \"semantic_type\": \"\",\n        \"description\": \"\"\n      }\n    },\n    {\n      \"column\": \"precision\",\n      \"properties\": {\n        \"dtype\": \"number\",\n        \"std\": 0.0012546910748747208,\n        \"min\": 0.9977117242507296,\n        \"max\": 0.9994861253854059,\n        \"num_unique_values\": 2,\n        \"samples\": [\n          0.9994861253854059,\n          0.9977117242507296\n        ],\n        \"semantic_type\": \"\",\n        \"description\": \"\"\n      }\n    },\n    {\n      \"column\": \"recall\",\n      \"properties\": {\n        \"dtype\": \"number\",\n        \"std\": 0.0012491028355656362,\n        \"min\": 0.9977151369002344,\n        \"max\": 0.99948163507109,\n        \"num_unique_values\": 2,\n        \"samples\": [\n          0.99948163507109,\n          0.9977151369002344\n        ],\n        \"semantic_type\": \"\",\n        \"description\": \"\"\n      }\n    },\n    {\n      \"column\": \"f1 score\",\n      \"properties\": {\n        \"dtype\": \"number\",\n        \"std\": 0.0012518966169121994,\n        \"min\": 0.9977131645316997,\n        \"max\": 0.9994836137060259,\n        \"num_unique_values\": 2,\n        \"samples\": [\n          0.9994836137060259,\n          0.9977131645316997\n        ],\n        \"semantic_type\": \"\",\n        \"description\": \"\"\n      }\n    }\n  ]\n}"
            }
          },
          "metadata": {},
          "execution_count": 80
        }
      ]
    },
    {
      "cell_type": "markdown",
      "source": [
        "### Confusion matrix"
      ],
      "metadata": {
        "id": "32ab_D9H_dS8"
      }
    },
    {
      "cell_type": "code",
      "source": [
        "# confusion matrix for dt and knn\n",
        "cm_dt = confusion_matrix(y_test, predictions_dt)\n",
        "cm_knn = confusion_matrix(y_test, predictions_knn)"
      ],
      "metadata": {
        "id": "3tE0nPeV35Kg"
      },
      "execution_count": 81,
      "outputs": []
    },
    {
      "cell_type": "code",
      "source": [
        "# plot cm for dt\n",
        "plt.figure(figsize=(8, 6))\n",
        "sns.heatmap(cm_dt, annot=True, fmt='d', cmap='Blues', cbar=False)\n",
        "plt.xlabel('Predicted Label')\n",
        "plt.ylabel('True Label')\n",
        "plt.title('confusion matrix for decision tree')"
      ],
      "metadata": {
        "colab": {
          "base_uri": "https://localhost:8080/",
          "height": 581
        },
        "id": "C2VTtpj9AM8L",
        "outputId": "17f9ae0f-a93e-44d3-84b9-1170c708e7b3"
      },
      "execution_count": 82,
      "outputs": [
        {
          "output_type": "execute_result",
          "data": {
            "text/plain": [
              "Text(0.5, 1.0, 'confusion matrix for decision tree')"
            ]
          },
          "metadata": {},
          "execution_count": 82
        },
        {
          "output_type": "display_data",
          "data": {
            "text/plain": [
              "<Figure size 800x600 with 1 Axes>"
            ],
            "image/png": "[encoded data removed]"
          },
          "metadata": {}
        }
      ]
    },
    {
      "cell_type": "code",
      "source": [
        "# plot cm for knn\n",
        "plt.figure(figsize=(8, 6))\n",
        "sns.heatmap(cm_knn, annot=True, fmt='d', cmap='Blues', cbar=False)\n",
        "plt.xlabel('Predicted Label')\n",
        "plt.ylabel('True Label')\n",
        "plt.title('confusion matrix for knn')"
      ],
      "metadata": {
        "colab": {
          "base_uri": "https://localhost:8080/",
          "height": 581
        },
        "id": "3JfhkpRbArjq",
        "outputId": "8a822c72-dd00-44b4-c719-dda639136783"
      },
      "execution_count": 83,
      "outputs": [
        {
          "output_type": "execute_result",
          "data": {
            "text/plain": [
              "Text(0.5, 1.0, 'confusion matrix for knn')"
            ]
          },
          "metadata": {},
          "execution_count": 83
        },
        {
          "output_type": "display_data",
          "data": {
            "text/plain": [
              "<Figure size 800x600 with 1 Axes>"
            ],
            "image/png": "[encoded data removed]"
          },
          "metadata": {}
        }
      ]
    },
    {
      "cell_type": "code",
      "source": [],
      "metadata": {
        "id": "A7XSAd4RA4c9"
      },
      "execution_count": 83,
      "outputs": []
    },
    {
      "cell_type": "markdown",
      "source": [
        "### Plot decision tree"
      ],
      "metadata": {
        "id": "kqo_mKpIFC1N"
      }
    },
    {
      "cell_type": "code",
      "source": [
        "# using plot_tree\n",
        "plt.figure(figsize=(20,10))\n",
        "plot_tree(dtree, filled=True, feature_names=X.columns, class_names=['Class0', 'Class1'], max_depth=3)\n",
        "plt.title(\"Decision Tree Visualization\")\n",
        "plt.show()"
      ],
      "metadata": {
        "colab": {
          "base_uri": "https://localhost:8080/",
          "height": 729
        },
        "id": "oXbmkjmPFHMC",
        "outputId": "9f5d9c8d-7986-4527-bbaa-41f99189e009"
      },
      "execution_count": 84,
      "outputs": [
        {
          "output_type": "display_data",
          "data": {
            "text/plain": [
              "<Figure size 2000x1000 with 1 Axes>"
            ],
            "image/png": "[encoded data removed]"
          },
          "metadata": {}
        }
      ]
    },
    {
      "cell_type": "code",
      "source": [
        "# using export_graphviz\n",
        "dot_data = export_graphviz(dtree, out_file=None, feature_names=X.columns, class_names=['Class0', 'Class1'],\n",
        "                           filled=True, rounded=True, special_characters=True)\n",
        "graph = graphviz.Source(dot_data)\n",
        "graph.view()"
      ],
      "metadata": {
        "colab": {
          "base_uri": "https://localhost:8080/",
          "height": 35
        },
        "id": "jFkkdFd8FXjQ",
        "outputId": "d3383993-d984-47ad-849c-24dd10888886"
      },
      "execution_count": 85,
      "outputs": [
        {
          "output_type": "execute_result",
          "data": {
            "text/plain": [
              "'Source.gv.pdf'"
            ],
            "application/vnd.google.colaboratory.intrinsic+json": {
              "type": "string"
            }
          },
          "metadata": {},
          "execution_count": 85
        }
      ]
    }
  ]
}