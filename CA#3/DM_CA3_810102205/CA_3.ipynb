{
  "nbformat": 4,
  "nbformat_minor": 0,
  "metadata": {
    "colab": {
      "provenance": []
    },
    "kernelspec": {
      "name": "python3",
      "display_name": "Python 3"
    },
    "language_info": {
      "name": "python"
    }
  },
  "cells": [
    {
      "cell_type": "code",
      "execution_count": 165,
      "metadata": {
        "id": "o3ClbosArmoP"
      },
      "outputs": [],
      "source": [
        "from pyspark.sql import SparkSession\n",
        "from pyspark.sql.functions import collect_set, size\n",
        "from pyspark.ml.fpm import FPGrowth"
      ]
    },
    {
      "cell_type": "code",
      "source": [
        "# create spark session\n",
        "spark_session = SparkSession.builder \\\n",
        "    .appName(\"CA3\") \\\n",
        "    .getOrCreate()"
      ],
      "metadata": {
        "id": "4TIasHGFtUNv"
      },
      "execution_count": 166,
      "outputs": []
    },
    {
      "cell_type": "code",
      "source": [
        "# load data and show first 5 row\n",
        "df = spark_session.read.csv(\"Groceries.csv\", header=True, inferSchema=True)\n",
        "df.show(5)"
      ],
      "metadata": {
        "colab": {
          "base_uri": "https://localhost:8080/"
        },
        "id": "NB6qpaUquyii",
        "outputId": "0552f926-2d90-4424-b944-be1730cc3e73"
      },
      "execution_count": 167,
      "outputs": [
        {
          "output_type": "stream",
          "name": "stdout",
          "text": [
            "+-------------+----------+----------------+\n",
            "|Member_number|      Date| itemDescription|\n",
            "+-------------+----------+----------------+\n",
            "|         1808|21-07-2015|  tropical fruit|\n",
            "|         2552|05-01-2015|      whole milk|\n",
            "|         2300|19-09-2015|       pip fruit|\n",
            "|         1187|12-12-2015|other vegetables|\n",
            "|         3037|01-02-2015|      whole milk|\n",
            "+-------------+----------+----------------+\n",
            "only showing top 5 rows\n",
            "\n"
          ]
        }
      ]
    },
    {
      "cell_type": "code",
      "source": [
        "# # of rows\n",
        "num_rows = df.count()\n",
        "print(f\"# of rows: {num_rows}\")\n",
        "\n",
        "# # of columns to check dataset\n",
        "num_columns = len(df.columns)\n",
        "print(f\"# of columns: {num_columns}\")"
      ],
      "metadata": {
        "colab": {
          "base_uri": "https://localhost:8080/"
        },
        "id": "a3q4JPWVxJ0v",
        "outputId": "6b6defa6-c462-4dcd-bbf3-b9ca259d5a76"
      },
      "execution_count": 168,
      "outputs": [
        {
          "output_type": "stream",
          "name": "stdout",
          "text": [
            "# of rows: 38765\n",
            "# of columns: 3\n"
          ]
        }
      ]
    },
    {
      "cell_type": "code",
      "source": [
        "df = df.drop(\"Date\") # drop date column\n",
        "df.columns # check columns of new dataframe"
      ],
      "metadata": {
        "colab": {
          "base_uri": "https://localhost:8080/"
        },
        "id": "S9w8EmHaHNk-",
        "outputId": "a43eba62-16e0-467a-a3ce-54c5a46aa6e2"
      },
      "execution_count": 169,
      "outputs": [
        {
          "output_type": "execute_result",
          "data": {
            "text/plain": [
              "['Member_number', 'itemDescription']"
            ]
          },
          "metadata": {},
          "execution_count": 169
        }
      ]
    },
    {
      "cell_type": "code",
      "source": [
        "# group based on member number purchase\n",
        "grouped_df = df.groupBy(\"Member_number\").agg(collect_set(\"itemDescription\").alias(\"items\"))\n",
        "grouped_df.count()"
      ],
      "metadata": {
        "colab": {
          "base_uri": "https://localhost:8080/"
        },
        "id": "RvSuEqQZitrn",
        "outputId": "1ffdf99d-b621-4320-c164-816541931442"
      },
      "execution_count": 170,
      "outputs": [
        {
          "output_type": "execute_result",
          "data": {
            "text/plain": [
              "3898"
            ]
          },
          "metadata": {},
          "execution_count": 170
        }
      ]
    },
    {
      "cell_type": "code",
      "source": [
        "# filter based on purchase number\n",
        "filtered_df = grouped_df.filter(size(\"items\") > 10)\n",
        "filtered_df.count()"
      ],
      "metadata": {
        "colab": {
          "base_uri": "https://localhost:8080/"
        },
        "id": "VVEp30Dvi8sB",
        "outputId": "408c220e-e694-49c8-8bc2-aa1e1c94bb04"
      },
      "execution_count": 171,
      "outputs": [
        {
          "output_type": "execute_result",
          "data": {
            "text/plain": [
              "1313"
            ]
          },
          "metadata": {},
          "execution_count": 171
        }
      ]
    },
    {
      "cell_type": "code",
      "source": [
        "# fpgrowth algorithm\n",
        "fp_growth = FPGrowth(itemsCol=\"items\", minSupport=0.15, minConfidence=0.4)\n",
        "model = fp_growth.fit(filtered_df)"
      ],
      "metadata": {
        "id": "ZAur7W1xjs1R"
      },
      "execution_count": 172,
      "outputs": []
    },
    {
      "cell_type": "code",
      "source": [
        "# frequent itemset\n",
        "frequent_itemsets = model.freqItemsets\n",
        "frequent_itemsets.show()\n",
        "frequent_itemsets.count()"
      ],
      "metadata": {
        "colab": {
          "base_uri": "https://localhost:8080/"
        },
        "id": "kCdyeZLPR1iI",
        "outputId": "a6511dfd-54f1-4cf4-9a9d-1bb36fffdb85"
      },
      "execution_count": 173,
      "outputs": [
        {
          "output_type": "stream",
          "name": "stdout",
          "text": [
            "+--------------------+----+\n",
            "|               items|freq|\n",
            "+--------------------+----+\n",
            "|              [pork]| 250|\n",
            "|     [bottled water]| 419|\n",
            "|[bottled water, o...| 239|\n",
            "|[bottled water, s...| 202|\n",
            "|[bottled water, w...| 276|\n",
            "|        [newspapers]| 296|\n",
            "| [frozen vegetables]| 231|\n",
            "|      [citrus fruit]| 354|\n",
            "|[citrus fruit, wh...| 226|\n",
            "|       [white bread]| 198|\n",
            "|            [butter]| 263|\n",
            "|        [rolls/buns]| 650|\n",
            "|[rolls/buns, othe...| 372|\n",
            "|[rolls/buns, othe...| 238|\n",
            "|[rolls/buns, whol...| 416|\n",
            "|    [tropical fruit]| 456|\n",
            "|[tropical fruit, ...| 216|\n",
            "|[tropical fruit, ...| 230|\n",
            "|[tropical fruit, ...| 202|\n",
            "|[tropical fruit, ...| 272|\n",
            "+--------------------+----+\n",
            "only showing top 20 rows\n",
            "\n"
          ]
        },
        {
          "output_type": "execute_result",
          "data": {
            "text/plain": [
              "67"
            ]
          },
          "metadata": {},
          "execution_count": 173
        }
      ]
    },
    {
      "cell_type": "code",
      "source": [
        "# association rule\n",
        "association_rules = model.associationRules\n",
        "association_rules.show()\n",
        "association_rules.count()"
      ],
      "metadata": {
        "colab": {
          "base_uri": "https://localhost:8080/"
        },
        "id": "mldwhSMudR-s",
        "outputId": "06b7e839-1ff3-4877-bf08-8ca99feef446"
      },
      "execution_count": 174,
      "outputs": [
        {
          "output_type": "stream",
          "name": "stdout",
          "text": [
            "+--------------------+------------------+-------------------+------------------+-------------------+\n",
            "|          antecedent|        consequent|         confidence|              lift|            support|\n",
            "+--------------------+------------------+-------------------+------------------+-------------------+\n",
            "|  [other vegetables]|      [rolls/buns]| 0.5081967213114754|1.0265573770491803| 0.2833206397562833|\n",
            "|  [other vegetables]|          [yogurt]|0.42349726775956287|0.9876588145085364| 0.2361005331302361|\n",
            "|  [other vegetables]|      [whole milk]| 0.6516393442622951|1.0101563860878318| 0.3632901751713633|\n",
            "|  [other vegetables]|            [soda]|0.43579234972677594|0.9649162819414111|0.24295506473724296|\n",
            "|      [bottled beer]|      [whole milk]| 0.6597633136094675| 1.022749977295432|0.16984006092916984|\n",
            "|[whipped/sour cream]|      [whole milk]| 0.6496815286624203|1.0071214251874356|0.15536938309215537|\n",
            "|[rolls/buns, othe...|      [whole milk]| 0.6397849462365591|0.9917799697858349|0.18126428027418126|\n",
            "|            [yogurt]|      [rolls/buns]| 0.4920071047957371| 0.993854351687389|0.21096725057121096|\n",
            "|            [yogurt]|[other vegetables]| 0.5506216696269982|0.9876588145085363| 0.2361005331302361|\n",
            "|            [yogurt]|            [soda]| 0.4404973357015986|0.9753338984421568|0.18888042650418888|\n",
            "|            [yogurt]|      [whole milk]| 0.6749555950266429|1.0463007039787275| 0.2894135567402894|\n",
            "|        [rolls/buns]|[other vegetables]| 0.5723076923076923|1.0265573770491803| 0.2833206397562833|\n",
            "|        [rolls/buns]|      [whole milk]|               0.64|0.9921133412042504|0.31683168316831684|\n",
            "|        [rolls/buns]|          [yogurt]|0.42615384615384616| 0.993854351687389|0.21096725057121096|\n",
            "|        [rolls/buns]|            [soda]| 0.4523076923076923|1.0014839797639123|0.22391469916222392|\n",
            "|           [sausage]|      [rolls/buns]| 0.5196304849884527|1.0496535796766744|0.17136329017517135|\n",
            "|           [sausage]|          [yogurt]|0.48036951501154734|1.1202933804798607|0.15841584158415842|\n",
            "|           [sausage]|[other vegetables]| 0.5750577367205543|1.0314901752924697|0.18964204112718963|\n",
            "|           [sausage]|            [soda]|0.46882217090069284| 1.038049764574384| 0.1546077684691546|\n",
            "|           [sausage]|      [whole milk]| 0.6374133949191686| 0.988103645252501| 0.2102056359482102|\n",
            "+--------------------+------------------+-------------------+------------------+-------------------+\n",
            "only showing top 20 rows\n",
            "\n"
          ]
        },
        {
          "output_type": "execute_result",
          "data": {
            "text/plain": [
              "53"
            ]
          },
          "metadata": {},
          "execution_count": 174
        }
      ]
    }
  ]
}